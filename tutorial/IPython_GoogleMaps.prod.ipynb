{
 "metadata": {},
 "nbformat": 3,
 "nbformat_minor": 0,
 "worksheets": [
  {
   "cells": [
    {
     "cell_type": "markdown",
     "metadata": {},
     "source": [
      "<table>\n",
      "<tr>\n",
      "<td width = \"150px\"><img src=\"files/SnakeyTitle.png\"/></td>\n",
      "<td width=\"500px\"><center>\n",
      "<h1>IPython GoogleMaps</h1>\n",
      "</center></td>\n",
      "<td width='150px'><img src=\"files/AuthorCredit.png\"/></td>\n",
      "</tr>\n",
      "</table>"
     ]
    },
    {
     "cell_type": "code",
     "collapsed": false,
     "input": [
      "from IPython.core.display import HTML, Javascript ## IPython display libraries\n",
      "\n",
      "import pandas as pd \n",
      "import numpy as np\n",
      "import matplotlib.pyplot as plt\n",
      "from geopy.geocoders import Nominatim\n",
      "geolocator = Nominatim()"
     ],
     "language": "python",
     "metadata": {},
     "outputs": [],
     "prompt_number": 1
    },
    {
     "cell_type": "code",
     "collapsed": false,
     "input": [
      "outpatient_payment = pd.read_csv('../data/cleaned_outpatient_payment.csv')\n",
      "ordered_payments = outpatient_payment[['Provider_State', 'Provider_City','Provider_Zip_Code', 'Average_Total_Payments']]\n",
      "lowest_medical_fees = ordered_payments.sort(columns='Average_Total_Payments')\n",
      "lowest_medical_fees = lowest_medical_fees.head()"
     ],
     "language": "python",
     "metadata": {},
     "outputs": []
    },
    {
     "cell_type": "code",
     "collapsed": false,
     "input": [
      "def gmap_init():\n",
      "    js = \"\"\"\n",
      "window.gmap_initialize = function() {};\n",
      "$.getScript('https://maps.googleapis.com/maps/api/js?v=3&sensor=false&callback=gmap_initialize');\n",
      "\"\"\"\n",
      "    return Javascript(data=js)\n",
      "\n",
      "gmap_init()"
     ],
     "language": "python",
     "metadata": {},
     "outputs": []
    },
    {
     "cell_type": "code",
     "collapsed": false,
     "input": [
      "%%html\n",
      "<style type=\"text/css\">\n",
      "  .map-canvas { height: 300px; }\n",
      "</style>"
     ],
     "language": "python",
     "metadata": {},
     "outputs": []
    },
    {
     "cell_type": "code",
     "collapsed": false,
     "input": [
      "js_point_strings = []\n",
      "for i, row in lowest_medical_fees[[\"Provider_Zip_Code\"]].iterrows():\n",
      "    location = geolocator.geocode(row[\"Provider_Zip_Code\"])\n",
      "    js_point_string = \"\"\"{\n",
      "    position: new google.maps.LatLng(%s, %s),\n",
      "    title: \"%s\",\n",
      "    }\n",
      "    \"\"\" % (location.latitude, location.longitude, row[\"Provider_Zip_Code\"])\n",
      "    js_point_strings.append(js_point_string)\n",
      "js_point_list = \",\\n\".join(js_point_strings)"
     ],
     "language": "python",
     "metadata": {},
     "outputs": []
    },
    {
     "cell_type": "code",
     "collapsed": false,
     "input": [
      "print(js_point_list)"
     ],
     "language": "python",
     "metadata": {},
     "outputs": []
    },
    {
     "cell_type": "code",
     "collapsed": false,
     "input": [
      "import uuid\n",
      "div_id = 'i' + str(uuid.uuid4())\n",
      "div_id = \"i3b8cf776-3b80-406d-ae8e-a11446e8d1b0\"\n",
      "\n",
      "html = \"\"\"<div id=\"%s\" class=\"map-canvas\"/>\"\"\" % (div_id)"
     ],
     "language": "python",
     "metadata": {},
     "outputs": []
    },
    {
     "cell_type": "code",
     "collapsed": false,
     "input": [
      "js = \"\"\"\n",
      "<script type=\"text/Javascript\">\n",
      "  (function(){\n",
      "    var mapOptions = {\n",
      "        zoom: 5,\n",
      "        center: new google.maps.LatLng(30, -87)\n",
      "      };\n",
      "\n",
      "    var MyMap = new google.maps.Map(document.getElementById('%s'),\n",
      "          mapOptions);\n",
      "  \n",
      "  data = [\n",
      "  %s\n",
      "  ]; \n",
      "  for (var index in data) {\n",
      "    var marker = new google.maps.Marker(data[index]);\n",
      "    marker.setMap(MyMap);\n",
      "}\n",
      "})();\n",
      "</script>\n",
      "\"\"\" % (div_id, js_point_list)\n"
     ],
     "language": "python",
     "metadata": {},
     "outputs": []
    },
    {
     "cell_type": "code",
     "collapsed": false,
     "input": [
      "HTML(html)"
     ],
     "language": "python",
     "metadata": {},
     "outputs": []
    },
    {
     "cell_type": "code",
     "collapsed": false,
     "input": [
      "HTML(js)"
     ],
     "language": "python",
     "metadata": {},
     "outputs": []
    },
    {
     "cell_type": "code",
     "collapsed": false,
     "input": [],
     "language": "python",
     "metadata": {},
     "outputs": []
    }
   ],
   "metadata": {}
  }
 ]
}