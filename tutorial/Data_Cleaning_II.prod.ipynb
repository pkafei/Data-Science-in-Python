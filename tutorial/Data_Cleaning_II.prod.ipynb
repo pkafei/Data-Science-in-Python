{
 "metadata": {
  "signature": "sha256:b57068204de0e1b341aa493d60a7915b9691c9466f8f172185471ca002e39872"
 },
 "nbformat": 3,
 "nbformat_minor": 0,
 "worksheets": [
  {
   "cells": [
    {
     "cell_type": "markdown",
     "metadata": {},
     "source": [
      "<table>\n",
      "<tr>\n",
      "<td width = \"150px\"><img src=\"files/SnakeyTitle.png\"/></td>\n",
      "<td width=\"500px\"><center>\n",
      "<h1>Data Cleaning II</h1>\n",
      "</center></td>\n",
      "<td width='150px'><img src=\"files/AuthorCredit.png\"/></td>\n",
      "</tr>\n",
      "</table>"
     ]
    },
    {
     "cell_type": "heading",
     "level": 1,
     "metadata": {},
     "source": [
      "Data Types and Outpatient Payment Information"
     ]
    },
    {
     "cell_type": "code",
     "collapsed": false,
     "input": [
      "import pandas as pd \n",
      "import numpy as np\n",
      "import matplotlib.pyplot as plt "
     ],
     "language": "python",
     "metadata": {},
     "outputs": [],
     "prompt_number": 15
    },
    {
     "cell_type": "code",
     "collapsed": false,
     "input": [
      "outpatient_payment = pd.read_csv('../data/IPPS.csv')"
     ],
     "language": "python",
     "metadata": {},
     "outputs": [],
     "prompt_number": 17
    },
    {
     "cell_type": "code",
     "collapsed": false,
     "input": [
      "outpatient_payment = outpatient_payment.rename(columns=str.strip)\n",
      "outpatient_payment.dtypes"
     ],
     "language": "python",
     "metadata": {},
     "outputs": [
      {
       "metadata": {},
       "output_type": "pyout",
       "prompt_number": 18,
       "text": [
        "DRG Definition                          object\n",
        "Provider Id                              int64\n",
        "Provider Name                           object\n",
        "Provider Street Address                 object\n",
        "Provider City                           object\n",
        "Provider State                          object\n",
        "Provider Zip Code                        int64\n",
        "Hospital Referral Region Description    object\n",
        "Total Discharges                         int64\n",
        "Average Covered Charges                 object\n",
        "Average Total Payments                  object\n",
        "Average Medicare Payments               object\n",
        "dtype: object"
       ]
      }
     ],
     "prompt_number": 18
    },
    {
     "cell_type": "code",
     "collapsed": false,
     "input": [
      "columns = {cn: cn.replace(\" \", \"_\") \n",
      "           for cn in outpatient_payment.columns.values}\n",
      "outpatient_payment = outpatient_payment.rename(columns=columns)\n",
      "outpatient_payment.dtypes"
     ],
     "language": "python",
     "metadata": {},
     "outputs": [
      {
       "metadata": {},
       "output_type": "pyout",
       "prompt_number": 19,
       "text": [
        "DRG_Definition                          object\n",
        "Provider_Id                              int64\n",
        "Provider_Name                           object\n",
        "Provider_Street_Address                 object\n",
        "Provider_City                           object\n",
        "Provider_State                          object\n",
        "Provider_Zip_Code                        int64\n",
        "Hospital_Referral_Region_Description    object\n",
        "Total_Discharges                         int64\n",
        "Average_Covered_Charges                 object\n",
        "Average_Total_Payments                  object\n",
        "Average_Medicare_Payments               object\n",
        "dtype: object"
       ]
      }
     ],
     "prompt_number": 19
    },
    {
     "cell_type": "code",
     "collapsed": false,
     "input": [
      "outpatient_payment[['Provider_Id', 'Provider_Zip_Code']] = \\\n",
      "        outpatient_payment[['Provider_Id', 'Provider_Zip_Code']].astype(object)    "
     ],
     "language": "python",
     "metadata": {},
     "outputs": [],
     "prompt_number": 20
    },
    {
     "cell_type": "code",
     "collapsed": false,
     "input": [
      "outpatient_payment.dtypes"
     ],
     "language": "python",
     "metadata": {},
     "outputs": [
      {
       "metadata": {},
       "output_type": "pyout",
       "prompt_number": 21,
       "text": [
        "DRG_Definition                          object\n",
        "Provider_Id                             object\n",
        "Provider_Name                           object\n",
        "Provider_Street_Address                 object\n",
        "Provider_City                           object\n",
        "Provider_State                          object\n",
        "Provider_Zip_Code                       object\n",
        "Hospital_Referral_Region_Description    object\n",
        "Total_Discharges                         int64\n",
        "Average_Covered_Charges                 object\n",
        "Average_Total_Payments                  object\n",
        "Average_Medicare_Payments               object\n",
        "dtype: object"
       ]
      }
     ],
     "prompt_number": 21
    },
    {
     "cell_type": "code",
     "collapsed": false,
     "input": [
      "#cast the datatype from \n",
      "outpatient_payment[['Provider_Id', 'Provider_Zip_Code']] = \\\n",
      "        outpatient_payment[['Provider_Id', 'Provider_Zip_Code']].astype(object)    "
     ],
     "language": "python",
     "metadata": {},
     "outputs": []
    },
    {
     "cell_type": "code",
     "collapsed": false,
     "input": [
      "outpatient_payment.dtypes"
     ],
     "language": "python",
     "metadata": {},
     "outputs": []
    },
    {
     "cell_type": "code",
     "collapsed": false,
     "input": [
      "outpatient_payment.to_csv('../data/cleaned_outpatient_paymentII.cvs')"
     ],
     "language": "python",
     "metadata": {},
     "outputs": [],
     "prompt_number": 22
    },
    {
     "cell_type": "code",
     "collapsed": false,
     "input": [
      "outpatient_payment = pd.read_csv('../data/cleaned_outpatient_payment.csv')"
     ],
     "language": "python",
     "metadata": {},
     "outputs": [],
     "prompt_number": 23
    },
    {
     "cell_type": "code",
     "collapsed": false,
     "input": [
      "outpatient_payment.dtypes"
     ],
     "language": "python",
     "metadata": {},
     "outputs": [
      {
       "metadata": {},
       "output_type": "pyout",
       "prompt_number": 24,
       "text": [
        "Unnamed: 0                                int64\n",
        "DRG_Definition                           object\n",
        "Provider_Id                               int64\n",
        "Provider_Name                            object\n",
        "Provider_Street_Address                  object\n",
        "Provider_City                            object\n",
        "Provider_State                           object\n",
        "Provider_Zip_Code                         int64\n",
        "Hospital_Referral_Region_Description     object\n",
        "Total_Discharges                          int64\n",
        "Average_Covered_Charges                 float64\n",
        "Average_Total_Payments                  float64\n",
        "Average_Medicare_Payments               float64\n",
        "dtype: object"
       ]
      }
     ],
     "prompt_number": 24
    },
    {
     "cell_type": "heading",
     "level": 1,
     "metadata": {},
     "source": [
      "Solution"
     ]
    },
    {
     "cell_type": "code",
     "collapsed": false,
     "input": [
      "outpatient_payment = pd.read_csv('../data/cleaned_outpatient_paymentII.csv',\n",
      "                                 dtype={'Provider_Id':'object','Provider_Zip_Code':'object'})"
     ],
     "language": "python",
     "metadata": {},
     "outputs": [],
     "prompt_number": 25
    },
    {
     "cell_type": "code",
     "collapsed": false,
     "input": [
      "outpatient_payment.dtypes"
     ],
     "language": "python",
     "metadata": {},
     "outputs": [
      {
       "metadata": {},
       "output_type": "pyout",
       "prompt_number": 26,
       "text": [
        "Unnamed: 0                                int64\n",
        "DRG_Definition                           object\n",
        "Provider_Id                              object\n",
        "Provider_Name                            object\n",
        "Provider_Street_Address                  object\n",
        "Provider_City                            object\n",
        "Provider_State                           object\n",
        "Provider_Zip_Code                        object\n",
        "Hospital_Referral_Region_Description     object\n",
        "Total_Discharges                          int64\n",
        "Average_Covered_Charges                 float64\n",
        "Average_Total_Payments                  float64\n",
        "Average_Medicare_Payments               float64\n",
        "dtype: object"
       ]
      }
     ],
     "prompt_number": 26
    },
    {
     "cell_type": "code",
     "collapsed": false,
     "input": [
      "Sources:\n",
      "    http://stackoverflow.com/questions/10591000/specifying-data-type-in-pandas-csv-reader\n",
      "    http://pandas.pydata.org/pandas-docs/stable/io.html#io-excel\n",
      "    http://pandas.pydata.org/pandas-docs/stable/generated/pandas.io.parsers.read_csv.html"
     ],
     "language": "python",
     "metadata": {},
     "outputs": []
    }
   ],
   "metadata": {}
  }
 ]
}