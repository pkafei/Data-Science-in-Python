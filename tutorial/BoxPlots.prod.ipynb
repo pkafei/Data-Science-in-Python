{
 "metadata": {
  "signature": "sha256:95191ec0c923791ec74cf754d467a0de9af218bec8de4b38ad33327f45c78258"
 },
 "nbformat": 3,
 "nbformat_minor": 0,
 "worksheets": [
  {
   "cells": [
    {
     "cell_type": "markdown",
     "metadata": {},
     "source": [
      "<table>\n",
      "<tr>\n",
      "<td width = \"150px\"><img src=\"files/SnakeyTitle.png\"/></td>\n",
      "<td width=\"500px\"><center>\n",
      "<h1>BoxPlots</h1>\n",
      "</center></td>\n",
      "<td width='150px'><img src=\"files/AuthorCredit.png\"/></td>\n",
      "</tr>\n",
      "</table>"
     ]
    },
    {
     "cell_type": "code",
     "collapsed": false,
     "input": [
      "import pandas as pd \n",
      "import numpy as np\n",
      "import matplotlib.pyplot as plt "
     ],
     "language": "python",
     "metadata": {},
     "outputs": [],
     "prompt_number": 1
    },
    {
     "cell_type": "code",
     "collapsed": false,
     "input": [
      "%pylab inline\n",
      "pd.set_option('display.mpl_style', 'default') "
     ],
     "language": "python",
     "metadata": {},
     "outputs": [
      {
       "output_type": "stream",
       "stream": "stdout",
       "text": [
        "Populating the interactive namespace from numpy and matplotlib\n"
       ]
      }
     ],
     "prompt_number": 2
    },
    {
     "cell_type": "code",
     "collapsed": false,
     "input": [
      "outpatient_payment = pd.read_csv('../data/cleaned_outpatient_payment.csv')"
     ],
     "language": "python",
     "metadata": {},
     "outputs": [],
     "prompt_number": 3
    },
    {
     "cell_type": "code",
     "collapsed": false,
     "input": [
      "return_type='axes'\n",
      "return_type='dict'\n",
      "outpatient_payment.boxplot(column='Average_Total_Payments', sym='*')\n",
      "plt.show()"
     ],
     "language": "python",
     "metadata": {},
     "outputs": [
      {
       "metadata": {},
       "output_type": "display_data",
       "png": "[encoded data removed]",
       "text": [
        "<matplotlib.figure.Figure at 0x108332a90>"
       ]
      }
     ],
     "prompt_number": 5
    },
    {
     "cell_type": "markdown",
     "metadata": {},
     "source": [
      "## What is our box plot telling us?\n",
      "\n",
      "* The mean is approximately $10,000\n",
      "\n",
      "* The bottom quartile is approximately $5,000\n",
      "\n",
      "* The upper quartile is approximately $12,000\n",
      "\n",
      "* The lower extreme overs around $2,000\n",
      "\n",
      "* The upper extreme reaches to around 160,0000"
     ]
    },
    {
     "cell_type": "code",
     "collapsed": false,
     "input": [
      "\n"
     ],
     "language": "python",
     "metadata": {},
     "outputs": []
    }
   ],
   "metadata": {}
  }
 ]
}