{
 "metadata": {
  "name": "",
  "signature": "sha256:010b6fd4ee52cd4ff533b11222b9fe58da0cb646a141e8c7eeee22579757ae38"
 },
 "nbformat": 3,
 "nbformat_minor": 0,
 "worksheets": [
  {
   "cells": [
    {
     "cell_type": "markdown",
     "metadata": {},
     "source": [
      "## SQL and Pandas"
     ]
    },
    {
     "cell_type": "code",
     "collapsed": false,
     "input": [
      "import pandas as pd \n",
      "import numpy as np\n",
      "import matplotlib.pyplot as plt "
     ],
     "language": "python",
     "metadata": {},
     "outputs": [],
     "prompt_number": 1
    },
    {
     "cell_type": "code",
     "collapsed": false,
     "input": [
      "import brewer2mpl\n",
      "from matplotlib import rcParams\n",
      "%pylab inline\n",
      "\n",
      "#colorbrewer2 Dark2 qualitative color table\n",
      "dark2_cmap = brewer2mpl.get_map('Dark2', 'Qualitative', 7)\n",
      "dark2_colors = dark2_cmap.mpl_colors\n",
      "\n",
      "rcParams['figure.figsize'] = (8, 5)\n",
      "rcParams['figure.dpi'] = 150\n",
      "rcParams['axes.color_cycle'] = dark2_colors\n",
      "rcParams['lines.linewidth'] = 2\n",
      "rcParams['axes.facecolor'] = 'white'\n",
      "rcParams['font.size'] = 8\n",
      "rcParams['patch.edgecolor'] = 'white'\n",
      "rcParams['patch.facecolor'] = dark2_colors[0]\n",
      "rcParams['font.family'] = 'StixGeneral'\n",
      "\n",
      "#Pandas table customizations\n",
      "pd.set_option('display.width', 300)\n",
      "pd.set_option('display.max_columns', 300)"
     ],
     "language": "python",
     "metadata": {},
     "outputs": []
    },
    {
     "cell_type": "markdown",
     "metadata": {},
     "source": [
      "## Connecting a Database"
     ]
    },
    {
     "cell_type": "code",
     "collapsed": false,
     "input": [],
     "language": "python",
     "metadata": {},
     "outputs": []
    },
    {
     "cell_type": "code",
     "collapsed": false,
     "input": [
      "## Querying a Value from a row"
     ],
     "language": "python",
     "metadata": {},
     "outputs": []
    },
    {
     "cell_type": "code",
     "collapsed": false,
     "input": [
      "outpatient_payment.loc[outpatient_payment['Provider_State'] == 'AL']"
     ],
     "language": "python",
     "metadata": {},
     "outputs": []
    },
    {
     "cell_type": "code",
     "collapsed": false,
     "input": [
      "### Querying multiple Values"
     ],
     "language": "python",
     "metadata": {},
     "outputs": []
    },
    {
     "cell_type": "code",
     "collapsed": false,
     "input": [
      "compare_states = outpatient_payment[(outpatient_payment.index > 0) & (outpatient_payment.Provider_State.isin(['AL', 'NE', 'CA']))]\n",
      "\n",
      "\n"
     ],
     "language": "python",
     "metadata": {},
     "outputs": []
    },
    {
     "cell_type": "code",
     "collapsed": false,
     "input": [
      "outpatient_payment[(outpatient_payment.Provider_State == 'AL') & (outpatient_payment.Provider_Zip_Code ==  35801)].head(5)\n"
     ],
     "language": "python",
     "metadata": {},
     "outputs": []
    },
    {
     "cell_type": "code",
     "collapsed": false,
     "input": [],
     "language": "python",
     "metadata": {},
     "outputs": []
    },
    {
     "cell_type": "code",
     "collapsed": false,
     "input": [],
     "language": "python",
     "metadata": {},
     "outputs": []
    },
    {
     "cell_type": "code",
     "collapsed": false,
     "input": [],
     "language": "python",
     "metadata": {},
     "outputs": []
    },
    {
     "cell_type": "code",
     "collapsed": false,
     "input": [],
     "language": "python",
     "metadata": {},
     "outputs": []
    },
    {
     "cell_type": "code",
     "collapsed": false,
     "input": [],
     "language": "python",
     "metadata": {},
     "outputs": []
    },
    {
     "cell_type": "markdown",
     "metadata": {},
     "source": [
      "## We are only interested in the employment numbers during the year 2008 (the last two cells can go into the basic Sql aggregations section)\n"
     ]
    },
    {
     "cell_type": "code",
     "collapsed": false,
     "input": [
      "recession_employment = compare_employment.loc[compare_employment['Year'] == 2008]\n",
      "recession_employment"
     ],
     "language": "python",
     "metadata": {},
     "outputs": []
    }
   ],
   "metadata": {}
  }
 ]
}