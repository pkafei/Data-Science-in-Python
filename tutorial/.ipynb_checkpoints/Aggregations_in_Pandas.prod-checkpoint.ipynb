{
 "metadata": {},
 "nbformat": 3,
 "nbformat_minor": 0,
 "worksheets": [
  {
   "cells": [
    {
     "cell_type": "markdown",
     "metadata": {},
     "source": [
      "<table>\n",
      "<tr>\n",
      "<td width = \"150px\"><img src=\"files/SnakeyTitle.png\"/></td>\n",
      "<td width=\"500px\"><center>\n",
      "<h1>Aggregations in Pandas</h1>\n",
      "</center></td>\n",
      "<td width='150px'><img src=\"files/AuthorCredit.png\"/></td>\n",
      "</tr>\n",
      "</table>"
     ]
    },
    {
     "cell_type": "code",
     "collapsed": false,
     "input": [
      "import pandas as pd\n",
      "import numpy as np\n",
      "from IPython.display import Image\n",
      "import matplotlib.pyplot as plt "
     ],
     "language": "python",
     "metadata": {},
     "outputs": [],
     "prompt_number": 2
    },
    {
     "cell_type": "code",
     "collapsed": false,
     "input": [
      "i = Image(filename='../data/split_apply_combine.png')\n",
      "i"
     ],
     "language": "python",
     "metadata": {},
     "outputs": [],
     "prompt_number": 3
    },
    {
     "cell_type": "code",
     "collapsed": false,
     "input": [
      "## 2001 Chicago civil worker salaries\n",
      "\n",
      "civil_worker_salaries = pd.read_csv(\"../data/civil_worker_salaries.csv\", )\n",
      "civil_worker_salaries.head()"
     ],
     "language": "python",
     "metadata": {},
     "outputs": [],
     "prompt_number": 4
    },
    {
     "cell_type": "code",
     "collapsed": false,
     "input": [
      "#Let's check our data types\n",
      "civil_worker_salaries.dtypes"
     ],
     "language": "python",
     "metadata": {},
     "outputs": [],
     "prompt_number": 5
    },
    {
     "cell_type": "code",
     "collapsed": false,
     "input": [
      "# Delete Unnamed Column\n",
      "civil_worker_salaries = civil_worker_salaries.drop('Unnamed: 0', 1)\n",
      "civil_worker_salaries"
     ],
     "language": "python",
     "metadata": {},
     "outputs": [],
     "prompt_number": 6
    },
    {
     "cell_type": "code",
     "collapsed": false,
     "input": [
      "civil_worker_salaries.sort('Employee_Annual_Salary', \n",
      "                           ascending=False, \n",
      "                           inplace=True)\n",
      "cws_dedupe = civil_worker_salaries.drop_duplicates()\n",
      "\n",
      "cws_dedupe.head(10)"
     ],
     "language": "python",
     "metadata": {},
     "outputs": [],
     "prompt_number": 7
    },
    {
     "cell_type": "code",
     "collapsed": false,
     "input": [
      "cws_dedupe.describe()"
     ],
     "language": "python",
     "metadata": {},
     "outputs": [],
     "prompt_number": 8
    },
    {
     "cell_type": "code",
     "collapsed": false,
     "input": [
      "civil_worker_salaries.describe()"
     ],
     "language": "python",
     "metadata": {},
     "outputs": [],
     "prompt_number": 9
    },
    {
     "cell_type": "code",
     "collapsed": false,
     "input": [
      "import sqlite3\n",
      "con = sqlite3.connect(\"../data.cwsdb\")\n",
      "cur = con.cursor()\n",
      "cur.execute(\"DROP TABLE IF EXISTS civil_worker_salaries\")\n",
      "civil_worker_salaries.to_sql(\"civil_worker_salaries\", con)"
     ],
     "language": "python",
     "metadata": {},
     "outputs": [],
     "prompt_number": 10
    },
    {
     "cell_type": "code",
     "collapsed": false,
     "input": [
      "cur.execute(\"\"\"\\\n",
      "SELECT Department, MAX (Employee_Annual_Salary)\n",
      "    FROM civil_worker_salaries\n",
      "    GROUP BY Department \"\"\")\n",
      "cur.fetchall()"
     ],
     "language": "python",
     "metadata": {},
     "outputs": [],
     "prompt_number": 11
    },
    {
     "cell_type": "code",
     "collapsed": false,
     "input": [
      "highest_salary_dep = civil_worker_salaries.groupby('Department').agg({\"Employee_Annual_Salary\": np.max})\n",
      "highest_salary_dep"
     ],
     "language": "python",
     "metadata": {},
     "outputs": [],
     "prompt_number": 12
    },
    {
     "cell_type": "code",
     "collapsed": false,
     "input": [
      "cur.execute(\"\"\"\\\n",
      "SELECT * FROM civil_worker_salaries\n",
      "    WHERE Employee_Annual_Salary < 20000\n",
      "    ORDER BY Position_Title \"\"\")\n",
      "cur.fetchall()"
     ],
     "language": "python",
     "metadata": {},
     "outputs": [],
     "prompt_number": 13
    },
    {
     "cell_type": "code",
     "collapsed": false,
     "input": [
      "lowest_salaries = civil_worker_salaries.groupby(\n",
      "                'Employee_Annual_Salary'). \\\n",
      "            filter(lambda x: x['Employee_Annual_Salary'] < 20000)\n",
      "    \n",
      "    \n",
      "lowest_salaries.sort(['Position_Title', 'Employee_Annual_Salary'])"
     ],
     "language": "python",
     "metadata": {},
     "outputs": [],
     "prompt_number": 14
    },
    {
     "cell_type": "code",
     "collapsed": false,
     "input": [
      "lowest_salaries.info()"
     ],
     "language": "python",
     "metadata": {},
     "outputs": [],
     "prompt_number": 15
    }
   ],
   "metadata": {}
  }
 ]
}