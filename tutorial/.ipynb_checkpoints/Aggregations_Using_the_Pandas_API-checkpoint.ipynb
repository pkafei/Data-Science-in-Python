{
 "metadata": {
  "signature": "sha256:de45e0c6fb0e0da9b8bc53027434075065a3d12327bbff8694dbe55c021b10f6"
 },
 "nbformat": 3,
 "nbformat_minor": 0,
 "worksheets": [
  {
   "cells": [
    {
     "cell_type": "markdown",
     "metadata": {},
     "source": [
      "# Aggregations Using the Pandas API"
     ]
    },
    {
     "cell_type": "markdown",
     "metadata": {},
     "source": [
      "##Goal: To get an introduction to aggregations and a compare to raw Sql statements\n",
      "\n",
      "* Load and clean NYC Education Professional Titles and "
     ]
    },
    {
     "cell_type": "code",
     "collapsed": false,
     "input": [
      "import urllib2\n",
      "import json\n",
      "import pandas as pd \n",
      "import numpy as np\n",
      "from IPython.display import Image\n",
      "import matplotlib.pyplot as plt "
     ],
     "language": "python",
     "metadata": {},
     "outputs": [],
     "prompt_number": ""
    },
    {
     "cell_type": "code",
     "collapsed": false,
     "input": [],
     "language": "python",
     "metadata": {},
     "outputs": [],
     "prompt_number": ""
    },
    {
     "cell_type": "markdown",
     "metadata": {},
     "source": [
      "## NYC Department of Education Professional Titles and Salaries"
     ]
    },
    {
     "cell_type": "markdown",
     "metadata": {},
     "source": []
    },
    {
     "cell_type": "code",
     "collapsed": false,
     "input": [
      "dep_edu =  pd.read_csv('/Users/portiaburton/clients/OpenBastion/DataScienceinPython/data/nyc_edu.csv')\n",
      "dep_edu.head()"
     ],
     "language": "python",
     "metadata": {},
     "outputs": [],
     "prompt_number": ""
    },
    {
     "cell_type": "code",
     "collapsed": false,
     "input": [],
     "language": "python",
     "metadata": {},
     "outputs": [],
     "prompt_number": ""
    },
    {
     "cell_type": "code",
     "collapsed": false,
     "input": [
      "## Before we execute describe, let's look at the different data types of our columns\n",
      "dep_edu.dtypes"
     ],
     "language": "python",
     "metadata": {},
     "outputs": [],
     "prompt_number": ""
    },
    {
     "cell_type": "code",
     "collapsed": false,
     "input": [],
     "language": "python",
     "metadata": {},
     "outputs": [],
     "prompt_number": ""
    },
    {
     "cell_type": "markdown",
     "metadata": {},
     "source": [
      "Looking at the columns and data types we can spot several preprocessing chores that await us. First, there are several columns that we won't be using (ASG LVL, UNION DESCR, BARG UNIT, APRL BANK, ARPL LVL), so we are going to proceed in dropping those columns. \n",
      "\n",
      "Then we have several objects that we wish to turn into floats. We have done this before in the Basic Statistics Lesson, and we are going to do it again."
     ]
    },
    {
     "cell_type": "code",
     "collapsed": false,
     "input": [],
     "language": "python",
     "metadata": {},
     "outputs": [],
     "prompt_number": ""
    },
    {
     "cell_type": "markdown",
     "metadata": {},
     "source": [
      "Let's change the names of the columns (just like in the Basic Statistics Lesson)"
     ]
    },
    {
     "cell_type": "code",
     "collapsed": false,
     "input": [
      "dep_edu = dep_edu.rename(columns={'SFFX DESCR':'Job_Title','STD HRS':'Working_Hours','MIN RATE':'MIN_RATE', 'MAX RATE': 'MAX_RATE'})\n",
      "dep_edu.tail(25)"
     ],
     "language": "python",
     "metadata": {},
     "outputs": [],
     "prompt_number": ""
    },
    {
     "cell_type": "code",
     "collapsed": false,
     "input": [],
     "language": "python",
     "metadata": {},
     "outputs": [],
     "prompt_number": ""
    },
    {
     "cell_type": "code",
     "collapsed": false,
     "input": [
      "dep_edu.describe()"
     ],
     "language": "python",
     "metadata": {},
     "outputs": [],
     "prompt_number": ""
    },
    {
     "cell_type": "markdown",
     "metadata": {},
     "source": []
    },
    {
     "cell_type": "code",
     "collapsed": false,
     "input": [],
     "language": "python",
     "metadata": {},
     "outputs": [],
     "prompt_number": ""
    },
    {
     "cell_type": "markdown",
     "metadata": {},
     "source": [
      "As we can see Min rate and Max rate are objects rather than floats are integers. We are going to have to do some preprocessing like in the previous statistical lesson. Let's quickly get started."
     ]
    },
    {
     "cell_type": "markdown",
     "metadata": {},
     "source": [
      "## Strip dollar signs"
     ]
    },
    {
     "cell_type": "code",
     "collapsed": false,
     "input": [
      "dep_edu['MIN_RATE'] = dep_edu['MIN_RATE'].str.strip(\"$\")\n",
      "dep_edu['MAX_RATE'] = dep_edu['MAX_RATE'].str.strip(\"$\")"
     ],
     "language": "python",
     "metadata": {},
     "outputs": [],
     "prompt_number": ""
    },
    {
     "cell_type": "code",
     "collapsed": false,
     "input": [],
     "language": "python",
     "metadata": {},
     "outputs": [],
     "prompt_number": ""
    },
    {
     "cell_type": "markdown",
     "metadata": {},
     "source": [
      "## Time to turn MIN_RATE and MAX_RATE into floats"
     ]
    },
    {
     "cell_type": "markdown",
     "metadata": {},
     "source": [
      "Splitting the data into groups based on a specific criteria"
     ]
    },
    {
     "cell_type": "code",
     "collapsed": false,
     "input": [
      "dep_edu[['MIN_RATE','MAX_RATE']] = dep_edu[['MIN_RATE','MAX_RATE']].astype(float) \n"
     ],
     "language": "python",
     "metadata": {},
     "outputs": [],
     "prompt_number": ""
    },
    {
     "cell_type": "code",
     "collapsed": false,
     "input": [],
     "language": "python",
     "metadata": {},
     "outputs": [],
     "prompt_number": ""
    },
    {
     "cell_type": "code",
     "collapsed": false,
     "input": [
      "dep_edu.describe()"
     ],
     "language": "python",
     "metadata": {},
     "outputs": [],
     "prompt_number": ""
    },
    {
     "cell_type": "code",
     "collapsed": false,
     "input": [],
     "language": "python",
     "metadata": {},
     "outputs": [],
     "prompt_number": ""
    },
    {
     "cell_type": "markdown",
     "metadata": {},
     "source": [
      "## Beyond Describe"
     ]
    },
    {
     "cell_type": "markdown",
     "metadata": {},
     "source": [
      "Now we are going to define what is GROUPBY."
     ]
    },
    {
     "cell_type": "markdown",
     "metadata": {},
     "source": [
      "## Split, Apply, and Combine"
     ]
    },
    {
     "cell_type": "markdown",
     "metadata": {},
     "source": [
      "In the last lesson we connected and to a PostGres database, and learned some basic SQL statements. In this section we are going to learn how to do more complicated queries and introduce the concept of Groupby. The explanations will borrow heavily from the pandas documentation. \n",
      "\n",
      "\n",
      "GROUP BY clause divides the rows so that user can apply aggregrate functios like calculating sums, and average. In this section we are going to compare"
     ]
    },
    {
     "cell_type": "markdown",
     "metadata": {},
     "source": []
    },
    {
     "cell_type": "markdown",
     "metadata": {},
     "source": [
      "In the below example:\n",
      "split: The original table is section off into parts\n",
      "apply: A function is applied to the parts (in this case the average is calculated)\n",
      "combine: The result of the function is combined into a new table"
     ]
    },
    {
     "cell_type": "code",
     "collapsed": false,
     "input": [
      "# https://github.com/ramnathv/rblocks/issues/8\n",
      "i = Image(filename='/Users/portiaburton/clients/OpenBastion/DataScienceinPython/data/split_apply_combine.png')\n",
      "i"
     ],
     "language": "python",
     "metadata": {},
     "outputs": [],
     "prompt_number": ""
    },
    {
     "cell_type": "code",
     "collapsed": false,
     "input": [
      "dep_edu.describe()"
     ],
     "language": "python",
     "metadata": {},
     "outputs": [],
     "prompt_number": ""
    },
    {
     "cell_type": "code",
     "collapsed": false,
     "input": [],
     "language": "python",
     "metadata": {},
     "outputs": [],
     "prompt_number": ""
    },
    {
     "cell_type": "markdown",
     "metadata": {},
     "source": [
      "## Beyond the Describe Method\n",
      "\n",
      "Describe gets us but so far. Let's say that I'm a senior budget analyst that has been working in the private sector for 20 years. I have a chance to work for the New York City Board of Education but before I submit my application I want to know what are the five highest salaries for a budget analyst."
     ]
    },
    {
     "cell_type": "code",
     "collapsed": false,
     "input": [],
     "language": "python",
     "metadata": {},
     "outputs": [],
     "prompt_number": ""
    },
    {
     "cell_type": "markdown",
     "metadata": {},
     "source": []
    },
    {
     "cell_type": "markdown",
     "metadata": {},
     "source": [
      "## The Next Steps\n",
      "\n",
      "1. Take only the columns we need\n",
      "\n",
      "2. Standardize the rows that pertain to Budget Analyst"
     ]
    },
    {
     "cell_type": "code",
     "collapsed": false,
     "input": [
      "type(dep_edu)"
     ],
     "language": "python",
     "metadata": {},
     "outputs": [],
     "prompt_number": ""
    },
    {
     "cell_type": "code",
     "collapsed": false,
     "input": [
      "# first we take only the columns we need\n",
      "dep_edu_salaries = dep_edu[['TITLE', 'Job_Title','BARG UNIT DESCR','MIN_RATE','MAX_RATE']]\n",
      "dep_edu_salaries.head(2)"
     ],
     "language": "python",
     "metadata": {},
     "outputs": [],
     "prompt_number": ""
    },
    {
     "cell_type": "code",
     "collapsed": false,
     "input": [],
     "language": "python",
     "metadata": {},
     "outputs": [],
     "prompt_number": ""
    },
    {
     "cell_type": "code",
     "collapsed": false,
     "input": [
      "# then we clean all of the rows that containt Budget Analyst\n",
      "#worst_stall_amount = revenue_stallhours.loc[revenue_stallhours['lot'].isin([87])]\n",
      "dep_edu_salaries_chancellor = dep_edu_salaries.loc[dep_edu_salaries['TITLE'].isin([83000])]\n",
      "dep_edu_salaries_chancellor"
     ],
     "language": "python",
     "metadata": {},
     "outputs": [],
     "prompt_number": ""
    },
    {
     "cell_type": "code",
     "collapsed": false,
     "input": [
      "dep_edu_salaries_chancellor.sort()"
     ],
     "language": "python",
     "metadata": {},
     "outputs": [],
     "prompt_number": ""
    },
    {
     "cell_type": "code",
     "collapsed": false,
     "input": [
      "add = dep_edu_salaries_chancellor[['MAX_RATE']].sum()\n",
      "add"
     ],
     "language": "python",
     "metadata": {},
     "outputs": [],
     "prompt_number": ""
    },
    {
     "cell_type": "code",
     "collapsed": false,
     "input": [
      "# But this gives the minimum\n",
      "bama = dep_edu_salaries_chancellor.groupby('MAX_RATE').aggregate(min)\n",
      "bama"
     ],
     "language": "python",
     "metadata": {},
     "outputs": [],
     "prompt_number": ""
    },
    {
     "cell_type": "code",
     "collapsed": false,
     "input": [
      "# So this gives you the mininum. \n",
      "bama2 = dep_edu_salaries_chancellor.groupby(dep_edu_salaries_chancellor.Job_Title).agg({\"MAX_RATE\": np.min})\n",
      "bama2\n",
      "                                                                  "
     ],
     "language": "python",
     "metadata": {},
     "outputs": [],
     "prompt_number": ""
    },
    {
     "cell_type": "code",
     "collapsed": false,
     "input": [
      "type(dep_edu_salaries_chancellor)"
     ],
     "language": "python",
     "metadata": {},
     "outputs": [],
     "prompt_number": ""
    },
    {
     "cell_type": "code",
     "collapsed": false,
     "input": [
      "dep_edu.head(25)"
     ],
     "language": "python",
     "metadata": {},
     "outputs": [],
     "prompt_number": ""
    },
    {
     "cell_type": "code",
     "collapsed": false,
     "input": [
      "##  ADMIN BUDGET ANALYST (BOE is quite a clunky name so we are going to change it\n",
      "\n",
      "dep_edu = dep_edu.rename(columns={'ADMIN BUDGET ANALYST (BOE': 'BUDGET_ANALYST'})\n",
      "dep_edu.head(2)"
     ],
     "language": "python",
     "metadata": {},
     "outputs": [],
     "prompt_number": ""
    },
    {
     "cell_type": "code",
     "collapsed": false,
     "input": [],
     "language": "python",
     "metadata": {},
     "outputs": [],
     "prompt_number": ""
    },
    {
     "cell_type": "markdown",
     "metadata": {},
     "source": [
      "## The Sql Way of doing a GroupBy for BUDGET_ANALYST"
     ]
    },
    {
     "cell_type": "code",
     "collapsed": false,
     "input": [],
     "language": "python",
     "metadata": {},
     "outputs": [],
     "prompt_number": ""
    },
    {
     "cell_type": "code",
     "collapsed": false,
     "input": [
      "SELECT BUDGET_ANALYST, MAXIMUM (MAX_RATE)\n",
      "FROM dep_gov\n",
      "GROUP BY BUDGET_ANALYST\n",
      "ORDER BY MAXIMUM(MAX_RATE) DESC;"
     ],
     "language": "python",
     "metadata": {},
     "outputs": [],
     "prompt_number": ""
    },
    {
     "cell_type": "code",
     "collapsed": false,
     "input": [],
     "language": "python",
     "metadata": {},
     "outputs": [],
     "prompt_number": ""
    },
    {
     "cell_type": "markdown",
     "metadata": {},
     "source": [
      "## Explanation of Sql Code"
     ]
    },
    {
     "cell_type": "code",
     "collapsed": false,
     "input": [],
     "language": "python",
     "metadata": {},
     "outputs": [],
     "prompt_number": ""
    },
    {
     "cell_type": "markdown",
     "metadata": {},
     "source": [
      "## This is the Pandas way of doing a GroupBy"
     ]
    },
    {
     "cell_type": "code",
     "collapsed": false,
     "input": [
      "bama = dep_edu[['Job_Title','MAX_RATE']]\n"
     ],
     "language": "python",
     "metadata": {},
     "outputs": [],
     "prompt_number": ""
    },
    {
     "cell_type": "code",
     "collapsed": false,
     "input": [
      "\n",
      "\n",
      "\n",
      "\n",
      "bama['Job_Title'].value_counts()"
     ],
     "language": "python",
     "metadata": {},
     "outputs": [],
     "prompt_number": ""
    },
    {
     "cell_type": "code",
     "collapsed": false,
     "input": [],
     "language": "python",
     "metadata": {},
     "outputs": [],
     "prompt_number": ""
    },
    {
     "cell_type": "code",
     "collapsed": false,
     "input": [
      "bama = bama.groupby('MAX_RATE').aggregate(min)\n",
      "bama[:10]"
     ],
     "language": "python",
     "metadata": {},
     "outputs": [],
     "prompt_number": ""
    },
    {
     "cell_type": "code",
     "collapsed": false,
     "input": [],
     "language": "python",
     "metadata": {},
     "outputs": [],
     "prompt_number": ""
    },
    {
     "cell_type": "code",
     "collapsed": false,
     "input": [
      "bama = bama.groupby('MAX_RATE').aggregate(min)\n",
      "bama"
     ],
     "language": "python",
     "metadata": {},
     "outputs": [],
     "prompt_number": ""
    },
    {
     "cell_type": "code",
     "collapsed": false,
     "input": [],
     "language": "python",
     "metadata": {},
     "outputs": [],
     "prompt_number": ""
    },
    {
     "cell_type": "code",
     "collapsed": false,
     "input": [
      "bam = dep_edu.groupby('Job_Title').aggregate(min)\n",
      "bam[:5]"
     ],
     "language": "python",
     "metadata": {},
     "outputs": [],
     "prompt_number": ""
    },
    {
     "cell_type": "code",
     "collapsed": false,
     "input": [
      "budget_analyst_max = dep_edu.groupby(dep_edu.Job_Title).agg({\"MIN_RATE\": np.min})\n",
      "budget_analyst_max.sort(ascending=True)"
     ],
     "language": "python",
     "metadata": {},
     "outputs": [],
     "prompt_number": ""
    },
    {
     "cell_type": "code",
     "collapsed": false,
     "input": [],
     "language": "python",
     "metadata": {},
     "outputs": [],
     "prompt_number": ""
    },
    {
     "cell_type": "code",
     "collapsed": false,
     "input": [],
     "language": "python",
     "metadata": {},
     "outputs": [],
     "prompt_number": ""
    },
    {
     "cell_type": "code",
     "collapsed": false,
     "input": [],
     "language": "python",
     "metadata": {},
     "outputs": [],
     "prompt_number": ""
    },
    {
     "cell_type": "markdown",
     "metadata": {},
     "source": [
      "TODO:\n",
      "    Standardize column titles\n",
      "    Example of aggregations (min, maximum, average)\n",
      "    \n",
      "What are the guiding questions of this dataset (what is the maximum amount of money I can make in my field)?\n",
      "On average how many hours are workers making 0 are working (these could very well be interns)?\n"
     ]
    },
    {
     "cell_type": "code",
     "collapsed": false,
     "input": [
      "Resources:\n",
      "    https://data.cityofnewyork.us/Education/NYC-Department-of-Education-Job-Titles/s7yj-m732\n",
      "    http://www.pythonforbeginners.com/python-on-the-web/how-to-use-urllib2-in-python/\n",
      "    https://docs.python.org/2/library/urllib2.html\n",
      "    https://docs.python.org/2/library/json.html?highlight=json%20load"
     ],
     "language": "python",
     "metadata": {},
     "outputs": [],
     "prompt_number": ""
    },
    {
     "cell_type": "code",
     "collapsed": false,
     "input": [],
     "language": "python",
     "metadata": {},
     "outputs": []
    },
    {
     "cell_type": "code",
     "collapsed": false,
     "input": [
      "# Selecting rows in the dataframe that contain a certain value. \n",
      "compare_states = outpatient_payment[(outpatient_payment.index > 0) & (outpatient_payment.Provider_State.isin(['AL', 'NE', 'CA']))]"
     ],
     "language": "python",
     "metadata": {},
     "outputs": []
    },
    {
     "cell_type": "code",
     "collapsed": false,
     "input": [
      "# Useful when sorting through salaries\n",
      "compare_states.sort()"
     ],
     "language": "python",
     "metadata": {},
     "outputs": []
    },
    {
     "cell_type": "code",
     "collapsed": false,
     "input": [
      "### More row selection Examples\n",
      "\n",
      "al_outpatient = outpatient_payment.loc[outpatient_payment['Provider_State'] == 'AL']\n",
      "ca_outpatient = outpatient_payment.loc[outpatient_payment['Provider_State'] == 'CA']\n",
      "ne_outpatient = outpatient_payment.loc[outpatient_payment['Provider_State'] == 'NE']"
     ],
     "language": "python",
     "metadata": {},
     "outputs": []
    }
   ],
   "metadata": {}
  }
 ]
}