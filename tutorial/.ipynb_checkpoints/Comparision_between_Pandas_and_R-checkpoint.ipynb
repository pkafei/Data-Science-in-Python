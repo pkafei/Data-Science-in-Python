{
 "metadata": {
  "name": "",
  "signature": "sha256:68134937a220c9502e5f6cdcb11047e4f25a96ece446cf919e803d794c8b5f07"
 },
 "nbformat": 3,
 "nbformat_minor": 0,
 "worksheets": [
  {
   "cells": [
    {
     "cell_type": "markdown",
     "metadata": {},
     "source": [
      "## A Quick Comparison of Pandas and R: (3 min)"
     ]
    },
    {
     "cell_type": "markdown",
     "metadata": {},
     "source": [
      "### Comparison R and Python\n",
      "\n",
      "http://readwrite.com/2013/11/25/python-displacing-r-as-the-programming-language-for-data-science#awesm=~ook68yWAuVeq8g\n",
      "* Introduction to the recent Python vs R debate\n",
      "* R is used mostly in academia\n",
      "\n",
      "http://blogs.computerworld.com/big-data/23204/python-really-supplanting-r-data-work\n",
      "* Picking Python is a personal preference\n",
      "* Python does has a richer library and framework for building applications\n",
      "\n",
      "\n",
      "http://pandas.pydata.org/pandas-docs/stable/comparison_with_r.html\n",
      "* Documentation in Pandas that compares and contrasts (i.e the groupby() function in Pandas and aggregate in R)\n"
     ]
    },
    {
     "cell_type": "markdown",
     "metadata": {},
     "source": [
      "## That being said you can use R in Pandas"
     ]
    },
    {
     "cell_type": "markdown",
     "metadata": {},
     "source": [
      "## Why Use R in Pandas\n",
      "* Access some of R's dataset\n",
      "* Work in two languages without having to change "
     ]
    },
    {
     "cell_type": "code",
     "collapsed": false,
     "input": [
      "import sys\n",
      "import pandas as pd # the pandas package\n",
      "import numpy as np\n",
      "import rpy2\n",
      "\n",
      "#Let's import R objects\n",
      "from rpy2.robjects.packages import importr\n",
      "import rpy2.robjects as ro\n",
      "import pandas.rpy.common as com"
     ],
     "language": "python",
     "metadata": {},
     "outputs": []
    },
    {
     "cell_type": "code",
     "collapsed": false,
     "input": [],
     "language": "python",
     "metadata": {},
     "outputs": []
    },
    {
     "cell_type": "code",
     "collapsed": false,
     "input": [
      "## An example of an R datatype "
     ],
     "language": "python",
     "metadata": {},
     "outputs": []
    },
    {
     "cell_type": "markdown",
     "metadata": {},
     "source": [
      "## We are going to import a dataset from the R Library with specs about cars"
     ]
    },
    {
     "cell_type": "code",
     "collapsed": false,
     "input": [
      "cars = com.load_data('mtcars')\n",
      "cars\n"
     ],
     "language": "python",
     "metadata": {},
     "outputs": []
    },
    {
     "cell_type": "markdown",
     "metadata": {},
     "source": [
      "## We are the EPA and we are looking for cars that get less than 20 MPG"
     ]
    },
    {
     "cell_type": "code",
     "collapsed": false,
     "input": [],
     "language": "python",
     "metadata": {},
     "outputs": []
    },
    {
     "cell_type": "code",
     "collapsed": false,
     "input": [
      "gas_guzzlers = cars.loc[cars['mpg'] <= 20]\n",
      "gas_guzzlers"
     ],
     "language": "python",
     "metadata": {},
     "outputs": []
    },
    {
     "cell_type": "markdown",
     "metadata": {},
     "source": [
      "## Our colleague works in R so let's give transform this back into an R dataframe"
     ]
    },
    {
     "cell_type": "code",
     "collapsed": false,
     "input": [
      "#r_dataframe = com.convert_to_r_dataframe(df)\n",
      "#gas_guzzlers\n",
      "r_dataframe = com.convert_to_r_dataframe(gas_guzzlers)\n"
     ],
     "language": "python",
     "metadata": {},
     "outputs": []
    },
    {
     "cell_type": "code",
     "collapsed": false,
     "input": [
      "r_dataframe"
     ],
     "language": "python",
     "metadata": {},
     "outputs": []
    },
    {
     "cell_type": "markdown",
     "metadata": {},
     "source": [
      "### Sources"
     ]
    },
    {
     "cell_type": "code",
     "collapsed": false,
     "input": [
      "http://wmbriggs.com/blog/?p=1833\n",
      "https://sites.google.com/site/aslugsguidetopython/data-analysis/pandas/calling-r-from-python\n"
     ],
     "language": "python",
     "metadata": {},
     "outputs": []
    }
   ],
   "metadata": {}
  }
 ]
}