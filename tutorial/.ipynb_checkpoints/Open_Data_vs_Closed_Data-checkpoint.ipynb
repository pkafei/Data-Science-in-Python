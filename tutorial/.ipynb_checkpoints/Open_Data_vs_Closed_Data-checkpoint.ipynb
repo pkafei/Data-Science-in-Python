{
 "metadata": {
  "signature": "sha256:f1b8eb300c2d635f33ded3e6e1e71b7ec379a0650308353597d7741e140dcf14"
 },
 "nbformat": 3,
 "nbformat_minor": 0,
 "worksheets": [
  {
   "cells": [
    {
     "cell_type": "code",
     "collapsed": false,
     "input": [
      "## What is Open Data and Where to Find IT (this notebook is now part of 'different data and where to find it')"
     ],
     "language": "python",
     "metadata": {},
     "outputs": [],
     "prompt_number": ""
    },
    {
     "cell_type": "code",
     "collapsed": false,
     "input": [],
     "language": "python",
     "metadata": {},
     "outputs": [],
     "prompt_number": ""
    },
    {
     "cell_type": "code",
     "collapsed": false,
     "input": [],
     "language": "python",
     "metadata": {},
     "outputs": [],
     "prompt_number": ""
    },
    {
     "cell_type": "code",
     "collapsed": false,
     "input": [
      "## What is Open Data?\n",
      "* Open data is data that can be freely used and repurposed\n",
      "* Open data can come in the form of csv files, excel files, and an API\n",
      "* Proprietory databases not considered open "
     ],
     "language": "python",
     "metadata": {},
     "outputs": [],
     "prompt_number": ""
    }
   ],
   "metadata": {}
  }
 ]
}