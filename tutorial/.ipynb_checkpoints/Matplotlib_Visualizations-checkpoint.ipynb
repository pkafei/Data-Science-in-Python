{
 "metadata": {
  "name": "",
  "signature": "sha256:925f33ee551ad89d5f2370fb581eef514d58148b5091a627b5a4132697146e89"
 },
 "nbformat": 3,
 "nbformat_minor": 0,
 "worksheets": [
  {
   "cells": [
    {
     "cell_type": "markdown",
     "metadata": {},
     "source": [
      "## Matplotlib Visualizations"
     ]
    },
    {
     "cell_type": "markdown",
     "metadata": {},
     "source": [
      "Here are some basic visualizations. The purpose of this notebook is to give you some bare-bones examples of how to use Matplotlib. We are going to use the Numpy Random Sampling/Number generator and then we are going to make a plot using the data that we have already explored earlier in the tutorial."
     ]
    },
    {
     "cell_type": "code",
     "collapsed": false,
     "input": [
      "import pandas as pd\n",
      "import matplotlib.pyplot as plt\n",
      "import numpy as np\n",
      "from pylab import *\n",
      "import pylab as pl"
     ],
     "language": "python",
     "metadata": {},
     "outputs": [],
     "prompt_number": 1
    },
    {
     "cell_type": "code",
     "collapsed": false,
     "input": [
      "%pylab inline\n",
      "pd.set_option('display.mpl_style', 'default') "
     ],
     "language": "python",
     "metadata": {},
     "outputs": [
      {
       "output_type": "stream",
       "stream": "stdout",
       "text": [
        "Populating the interactive namespace from numpy and matplotlib\n"
       ]
      },
      {
       "output_type": "stream",
       "stream": "stderr",
       "text": [
        "WARNING: pylab import has clobbered these variables: ['linalg', 'draw_if_interactive', 'random', 'power', 'info', 'fft']\n",
        "`%matplotlib` prevents importing * from pylab and numpy\n"
       ]
      }
     ],
     "prompt_number": 2
    },
    {
     "cell_type": "markdown",
     "metadata": {},
     "source": [
      "## Scatter Plot"
     ]
    },
    {
     "cell_type": "code",
     "collapsed": false,
     "input": [
      "N = 150\n",
      "x = np.random.rand(N)\n",
      "y = np.random.rand(N)\n",
      "colors = 'green'\n",
      "\n",
      "plt.scatter(x, y, c=colors, alpha=0.5)\n",
      "plt.show()"
     ],
     "language": "python",
     "metadata": {},
     "outputs": [
      {
       "metadata": {},
       "output_type": "display_data",
       "png": "[encoded data removed]",
       "text": [
        "<matplotlib.figure.Figure at 0x107c11650>"
       ]
      }
     ],
     "prompt_number": 3
    },
    {
     "cell_type": "markdown",
     "metadata": {},
     "source": [
      "## Line graph of unemployment"
     ]
    },
    {
     "cell_type": "code",
     "collapsed": false,
     "input": [
      "unemployment = pd.read_csv('../data/national_unemployment.csv', \n",
      "                           index_col = \"Date\", parse_dates=True)"
     ],
     "language": "python",
     "metadata": {},
     "outputs": [],
     "prompt_number": 4
    },
    {
     "cell_type": "code",
     "collapsed": false,
     "input": [
      "unemployment = unemployment.rename(columns={'Value':'Unemployment Rate'})"
     ],
     "language": "python",
     "metadata": {},
     "outputs": [],
     "prompt_number": 5
    },
    {
     "cell_type": "markdown",
     "metadata": {},
     "source": [
      "### Out of the Box Plot Function Call"
     ]
    },
    {
     "cell_type": "markdown",
     "metadata": {},
     "source": [
      "This is what you get when you call plot right out of the box. There are no promises though that what you get right out of the box comes fully assembled. We are going to go over the bits of the matplotlib API that you would need in order to make this "
     ]
    },
    {
     "cell_type": "code",
     "collapsed": false,
     "input": [
      "unemployment.plot()"
     ],
     "language": "python",
     "metadata": {},
     "outputs": []
    },
    {
     "cell_type": "markdown",
     "metadata": {},
     "source": [
      "### Customizing Matplotlib Plot"
     ]
    },
    {
     "cell_type": "markdown",
     "metadata": {},
     "source": [
      "The properties we are editting in this line graph include size, color, title, y-axis, and label."
     ]
    },
    {
     "cell_type": "code",
     "collapsed": false,
     "input": [
      "unemployment.plot(figsize=(15, 5), color ='magenta')\n",
      "plt.title('Unemployment in the State of Maryland from 1948 to 2014')\n",
      "plt.ylabel('Unemployment Rate')\n",
      "plt.show()"
     ],
     "language": "python",
     "metadata": {},
     "outputs": []
    },
    {
     "cell_type": "markdown",
     "metadata": {},
     "source": [
      "Sources:\n",
      "* http://matplotlib.org/examples/shapes_and_collections/scatter_demo.html  \n",
      "* http://docs.scipy.org/doc/numpy/reference/routines.random.html"
     ]
    }
   ],
   "metadata": {}
  }
 ]
}