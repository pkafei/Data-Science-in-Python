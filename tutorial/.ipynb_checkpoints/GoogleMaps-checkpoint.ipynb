{
 "metadata": {
  "name": "",
  "signature": "sha256:e3cfcc5c3b767ab8e1b8014b50f8c55b30b0a242be03dde23947641ff064d713"
 },
 "nbformat": 3,
 "nbformat_minor": 0,
 "worksheets": [
  {
   "cells": [
    {
     "cell_type": "markdown",
     "metadata": {},
     "source": [
      "## IPython and Google Maps"
     ]
    },
    {
     "cell_type": "code",
     "collapsed": false,
     "input": [],
     "language": "python",
     "metadata": {},
     "outputs": [],
     "prompt_number": 0
    },
    {
     "cell_type": "markdown",
     "metadata": {},
     "source": [
      "IPython is a versatile environment that doesn't only work with Python. In our previous lessons I demonstrated that you can use IPython other languages and backend technologies like SQL and R. IPython is useful and particularly powerful when you combine it with frontend languages such as HTML and Javascript. "
     ]
    },
    {
     "cell_type": "markdown",
     "metadata": {},
     "source": [
      "We were mostly looking at aggregates for the outpatient payment. In this section we are going to sort the locations with the most "
     ]
    },
    {
     "cell_type": "code",
     "collapsed": false,
     "input": [
      "from IPython.core.display import HTML, Javascript ## IPython display libraries\n",
      "\n",
      "import pandas as pd \n",
      "import numpy as np\n",
      "import matplotlib.pyplot as plt\n",
      "from geopy.geocoders import Nominatim\n",
      "geolocator = Nominatim()"
     ],
     "language": "python",
     "metadata": {},
     "outputs": [],
     "prompt_number": 1
    },
    {
     "cell_type": "code",
     "collapsed": false,
     "input": [
      "outpatient_payment = pd.read_csv('../data/cleaned_outpatient_payment.csv')\n",
      "ordered_payments = outpatient_payment[['Provider_State', 'Provider_City','Provider_Zip_Code', 'Average_Total_Payments']]\n",
      "lowest_medical_fees = ordered_payments.sort(columns='Average_Total_Payments')\n",
      "lowest_medical_fees = lowest_medical_fees.head()"
     ],
     "language": "python",
     "metadata": {},
     "outputs": [],
     "prompt_number": 3
    },
    {
     "cell_type": "code",
     "collapsed": false,
     "input": [
      "def gmap_init():\n",
      "    js = \"\"\"\n",
      "window.gmap_initialize = function() {};\n",
      "$.getScript('https://maps.googleapis.com/maps/api/js?v=3&sensor=false&callback=gmap_initialize');\n",
      "\"\"\"\n",
      "    return Javascript(data=js)\n",
      "\n",
      "gmap_init()"
     ],
     "language": "python",
     "metadata": {},
     "outputs": [
      {
       "javascript": [
        "\n",
        "window.gmap_initialize = function() {};\n",
        "$.getScript('https://maps.googleapis.com/maps/api/js?v=3&sensor=false&callback=gmap_initialize');\n"
       ],
       "metadata": {},
       "output_type": "pyout",
       "prompt_number": 4,
       "text": [
        "<IPython.core.display.Javascript at 0x107d6e150>"
       ]
      }
     ],
     "prompt_number": 4
    },
    {
     "cell_type": "code",
     "collapsed": false,
     "input": [
      "%%html\n",
      "<style type=\"text/css\">\n",
      "  .map-canvas { height: 300px; }\n",
      "</style"
     ],
     "language": "python",
     "metadata": {},
     "outputs": [
      {
       "html": [
        "<style type=\"text/css\">\n",
        "  .map-canvas { height: 300px; }\n",
        "</style"
       ],
       "metadata": {},
       "output_type": "display_data",
       "text": [
        "<IPython.core.display.HTML at 0x107d6e4d0>"
       ]
      }
     ],
     "prompt_number": 5
    },
    {
     "cell_type": "code",
     "collapsed": false,
     "input": [
      "%%html\n",
      "<div id=\"markers\" class=\"map-canvas\"/>"
     ],
     "language": "python",
     "metadata": {},
     "outputs": [
      {
       "html": [
        "<div id=\"markers\" class=\"map-canvas\"/>"
       ],
       "metadata": {},
       "output_type": "display_data",
       "text": [
        "<IPython.core.display.HTML at 0x107d6e190>"
       ]
      }
     ],
     "prompt_number": 6
    },
    {
     "cell_type": "code",
     "collapsed": false,
     "input": [
      "js_object_strings = []\n",
      "for i, row in lowest_medical_fees[[\"Provider_Zip_Code\"]].iterrows():\n",
      "    location = geolocator.geocode(row[\"Provider_Zip_Code\"])\n",
      "    js_object_string = \"\"\"{\n",
      "    position: new google.maps.LatLng(%s, %s),\n",
      "    title: \"%s\",\n",
      "    map: window.MyMap\n",
      "    }\n",
      "    \"\"\" % (location.latitude, location.longitude, row[\"Provider_Zip_Code\"])\n",
      "    js_object_strings.append(js_object_string)\n",
      "js_object_list = \",\\n\".join(js_object_strings)"
     ],
     "language": "python",
     "metadata": {},
     "outputs": [],
     "prompt_number": 7
    }
   ],
   "metadata": {}
  }
 ]
}