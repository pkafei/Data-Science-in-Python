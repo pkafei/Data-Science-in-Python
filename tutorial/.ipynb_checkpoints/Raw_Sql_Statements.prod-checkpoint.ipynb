{
 "metadata": {
  "signature": "sha256:fc8d8f1a4442f126c7d4bfe9e1e60a8f254d6c080171df6392daaba9c2ed2ef4"
 },
 "nbformat": 3,
 "nbformat_minor": 0,
 "worksheets": [
  {
   "cells": [
    {
     "cell_type": "markdown",
     "metadata": {},
     "source": [
      "<table>\n",
      "<tr>\n",
      "<td width = \"150px\"><img src=\"files/SnakeyTitle.png\"/></td>\n",
      "<td width=\"500px\"><center>\n",
      "<h1>Raw Sql Statements</h1>\n",
      "</center></td>\n",
      "<td width='150px'><img src=\"files/AuthorCredit.png\"/></td>\n",
      "</tr>\n",
      "</table>"
     ]
    },
    {
     "cell_type": "code",
     "collapsed": false,
     "input": [
      "import pandas as pd\n",
      "import sqlite3"
     ],
     "language": "python",
     "metadata": {},
     "outputs": []
    },
    {
     "cell_type": "code",
     "collapsed": false,
     "input": [
      "con = sqlite3.connect(\"../data/films.sqlite\")\n",
      "films = pd.read_sql(\"SELECT * from films LIMIT 10\", con)\n",
      "films"
     ],
     "language": "python",
     "metadata": {},
     "outputs": []
    },
    {
     "cell_type": "code",
     "collapsed": false,
     "input": [
      "films = pd.read_sql(\"SELECT title, description, release_year from films LIMIT 10\", con)\n",
      "films.head()"
     ],
     "language": "python",
     "metadata": {},
     "outputs": []
    },
    {
     "cell_type": "code",
     "collapsed": false,
     "input": [
      "films = pd.read_sql(\"\"\"SELECT title, \n",
      "                    description, release_year \n",
      "                    FROM films \n",
      "                    ORDER BY title asc\"\"\", con)\n",
      "films.head()"
     ],
     "language": "python",
     "metadata": {},
     "outputs": []
    },
    {
     "cell_type": "code",
     "collapsed": false,
     "input": [
      "films = pd.read_sql(\"\"\"SELECT title, \n",
      "                    rating,\n",
      "                    description\n",
      "                    FROM films \n",
      "                    WHERE rating = 'G' OR rating ='PG'\"\"\", con)\n",
      "films.head()"
     ],
     "language": "python",
     "metadata": {},
     "outputs": []
    }
   ],
   "metadata": {}
  }
 ]
}