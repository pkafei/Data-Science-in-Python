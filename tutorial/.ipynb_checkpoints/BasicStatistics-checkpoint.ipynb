{
 "metadata": {
  "name": "",
  "signature": "sha256:bc81f0a1f8d9e100fc37bd200dbc39c15c898d052548402125a978188576fd90"
 },
 "nbformat": 3,
 "nbformat_minor": 0,
 "worksheets": [
  {
   "cells": [
    {
     "cell_type": "markdown",
     "metadata": {},
     "source": [
      "#Basic Statistical Analysis: Inpatient Prospective Pay"
     ]
    },
    {
     "cell_type": "code",
     "collapsed": false,
     "input": [
      "import pandas as pd \n",
      "import numpy as np\n",
      "import matplotlib.pyplot as plt "
     ],
     "language": "python",
     "metadata": {},
     "outputs": []
    },
    {
     "cell_type": "code",
     "collapsed": false,
     "input": [
      "import brewer2mpl\n",
      "from matplotlib import rcParams\n",
      "%pylab inline\n",
      "\n",
      "#colorbrewer2 Dark2 qualitative color table\n",
      "#dark2_cmap = brewer2mpl.get_map('Dark2', 'Qualitative', 7)\n",
      "dark2_colors = dark2_cmap.mpl_colors\n",
      "\n",
      "rcParams['figure.figsize'] = (8, 5)\n",
      "rcParams['figure.dpi'] = 150\n",
      "rcParams['axes.color_cycle'] = dark2_colors\n",
      "rcParams['lines.linewidth'] = 2\n",
      "rcParams['axes.facecolor'] = 'white'\n",
      "rcParams['font.size'] = 8\n",
      "rcParams['patch.edgecolor'] = 'white'\n",
      "rcParams['patch.facecolor'] = dark2_colors[0]\n",
      "rcParams['font.family'] = 'StixGeneral'\n",
      "\n",
      "#Pandas table customizations\n",
      "pd.set_option('display.width', 300)\n",
      "pd.set_option('display.max_columns', 300)"
     ],
     "language": "python",
     "metadata": {},
     "outputs": []
    },
    {
     "cell_type": "markdown",
     "metadata": {},
     "source": [
      "### What is an EDA?\n",
      "An EDA is an Exploratory Data Analysis: An exploratory data analysis is a way to describe and summarize a dataset.\n",
      "\n",
      "* Mean vs median\n",
      "* quartiles and percentiles\n",
      "* Uneven distributions\n",
      "* Linear regressions (correlation)"
     ]
    },
    {
     "cell_type": "code",
     "collapsed": false,
     "input": [
      "# Data source is provided by https://data.cms.gov/Medicare/Inpatient-Prospective-Payment-System-IPPS-Provider/97k6-zzx3\n",
      "outpatient_payment = pd.read_csv('../data/IPPS.csv')"
     ],
     "language": "python",
     "metadata": {},
     "outputs": []
    },
    {
     "cell_type": "code",
     "collapsed": false,
     "input": [
      "outpatient_payment.dtypes"
     ],
     "language": "python",
     "metadata": {},
     "outputs": []
    },
    {
     "cell_type": "markdown",
     "metadata": {},
     "source": [
      "## Let's clean the white space from columns 'Total Discharges', 'Average Covered Charges', and 'Average Total Payments'"
     ]
    },
    {
     "cell_type": "code",
     "collapsed": false,
     "input": [
      "outpatient_payment = outpatient_payment.rename(columns = lambda x: x.strip())\n",
      "outpatient_payment.dtypes"
     ],
     "language": "python",
     "metadata": {},
     "outputs": []
    },
    {
     "cell_type": "code",
     "collapsed": false,
     "input": [
      "## Changing the names of the column names for easier processing and plotting\n",
      "outpatient_payment = outpatient_payment.rename(columns={'DRG Definition':'DRG_Definition','Provider Id':'Provider_Id','Provider Name':'Provider_Name', 'Provider Street Address': 'Provider_Street_Address', 'Provider City': 'Provider_City','Provider State':'Provider_State', 'Provider Zip Code':'Provider_Zip_Code', 'Hospital Referral Region Description':'Hospital_Referral_Region_Description', 'Total Discharges':'Total_Discharges', 'Average Covered Charges':'Average_Covered_Charges','Average Total Payments':'Average_Total_Payments','Average Medicare Payments':'Average_Medicare_Payments'})\n",
      "\n"
     ],
     "language": "python",
     "metadata": {},
     "outputs": []
    },
    {
     "cell_type": "code",
     "collapsed": false,
     "input": [
      "outpatient_payment"
     ],
     "language": "python",
     "metadata": {},
     "outputs": []
    },
    {
     "cell_type": "code",
     "collapsed": false,
     "input": [],
     "language": "python",
     "metadata": {},
     "outputs": []
    },
    {
     "cell_type": "code",
     "collapsed": false,
     "input": [
      "outpatient_payment.describe()"
     ],
     "language": "python",
     "metadata": {},
     "outputs": []
    },
    {
     "cell_type": "code",
     "collapsed": false,
     "input": [],
     "language": "python",
     "metadata": {},
     "outputs": []
    },
    {
     "cell_type": "markdown",
     "metadata": {},
     "source": [
      "### Two different types of data\n",
      "* There are two main types of data categorical(ordinal and nominal) and continuous\n",
      "* continuous: Quantative and the value changes (weigh, price, profits)\n",
      "* categorical: Labeled and divided into groups (like race, sex, zip code)"
     ]
    },
    {
     "cell_type": "code",
     "collapsed": false,
     "input": [],
     "language": "python",
     "metadata": {},
     "outputs": []
    },
    {
     "cell_type": "markdown",
     "metadata": {},
     "source": [
      "## Problem: What is the issue with the describe table?\n",
      "\n",
      "**Answer:** The content in the 'Provider Id' and 'Provider Zip Code' are not continuous data, so you cannot find the mean, minimum or max. Furthermore, the columns 'Average Covered Charges', 'Average Total Payments', and 'Average Medical Payments' are indeed continuos data. The data in these rows are represented as strings. \n",
      "\n"
     ]
    },
    {
     "cell_type": "code",
     "collapsed": false,
     "input": [],
     "language": "python",
     "metadata": {},
     "outputs": []
    },
    {
     "cell_type": "markdown",
     "metadata": {},
     "source": [
      "## Data Mundging and Cleaning: In order to analyze our data we need to clean it\n",
      "1. In order to make 'Provider Id', 'Provider Zip Code' categorical and not continious data we have to change data types of 'Provider Id', 'Provider Zip Code' from integer to object\n",
      "\n",
      "2. The reverse is true for 'Average_Covered_Charges', 'Average_Total_Payments', and 'Average_Medicare_Payments', they need to be expressed as continous data so the data types should be changed from object to integer"
     ]
    },
    {
     "cell_type": "code",
     "collapsed": false,
     "input": [
      "outpatient_payment.dtypes"
     ],
     "language": "python",
     "metadata": {},
     "outputs": []
    },
    {
     "cell_type": "code",
     "collapsed": false,
     "input": [
      "### Changing 'Provider Id' and 'Provider Zip Code' from integer to object \n",
      "\n",
      "outpatient_payment[['Provider_Id', 'Provider_Zip_Code']] = outpatient_payment[['Provider_Id', \n",
      "                                                                               'Provider_Zip_Code']].astype(object)    "
     ],
     "language": "python",
     "metadata": {},
     "outputs": []
    },
    {
     "cell_type": "code",
     "collapsed": false,
     "input": [
      "## Checking to the column datatypes\n",
      "outpatient_payment.dtypes"
     ],
     "language": "python",
     "metadata": {},
     "outputs": []
    },
    {
     "cell_type": "markdown",
     "metadata": {},
     "source": [
      "## Getting rid of white space in 'Average Covered Charges', and 'Average Total Payments'"
     ]
    },
    {
     "cell_type": "code",
     "collapsed": false,
     "input": [
      "outpatient_payment = outpatient_payment.rename(columns = lambda x: x.strip())\n",
      "outpatient_payment"
     ],
     "language": "python",
     "metadata": {},
     "outputs": []
    },
    {
     "cell_type": "code",
     "collapsed": false,
     "input": [
      "outpatient_payment.dtypes"
     ],
     "language": "python",
     "metadata": {},
     "outputs": []
    },
    {
     "cell_type": "code",
     "collapsed": false,
     "input": [
      "## Stripping the dollar sign in the the beginning of 'Average Medicare Payments'\n",
      "#*Would like to find a way for this to work in one class\n",
      "outpatient_payment['Average_Covered_Charges'] = outpatient_payment['Average_Covered_Charges'].str.strip(\"$\")\n",
      "outpatient_payment['Average_Total_Payments'] = outpatient_payment['Average_Total_Payments'].str.strip(\"$\")\n",
      "outpatient_payment['Average_Medicare_Payments'] = outpatient_payment['Average_Medicare_Payments'].str.strip(\"$\")\n",
      "\n"
     ],
     "language": "python",
     "metadata": {},
     "outputs": []
    },
    {
     "cell_type": "markdown",
     "metadata": {},
     "source": [
      "### First we are going to get a high level view of our data and then we are going to drill down and take a look at the 'Average_Covered_Charges', 'Average_Total_Payments', and 'Average_Medicare_Payments' of Alabama, Nebraska, and California"
     ]
    },
    {
     "cell_type": "code",
     "collapsed": false,
     "input": [
      "### Let's look at Alabama, Nebraska, and California\n",
      "\n",
      "al_outpatient = outpatient_payment.loc[outpatient_payment['Provider_State'] == 'AL']\n",
      "ca_outpatient = outpatient_payment.loc[outpatient_payment['Provider_State'] == 'CA']\n",
      "ne_outpatient = outpatient_payment.loc[outpatient_payment['Provider_State'] == 'NE']"
     ],
     "language": "python",
     "metadata": {},
     "outputs": []
    },
    {
     "cell_type": "code",
     "collapsed": false,
     "input": [
      "## A second shot at selection\n",
      "\n",
      "compare_states = outpatient_payment[(outpatient_payment.index > 0) & (outpatient_payment.Provider_State.isin(['AL', 'NE', 'CA']))]\n",
      "\n",
      "compare_states\n"
     ],
     "language": "python",
     "metadata": {},
     "outputs": []
    },
    {
     "cell_type": "code",
     "collapsed": false,
     "input": [
      "# Rank the Most Expensive to Least Expensive"
     ],
     "language": "python",
     "metadata": {},
     "outputs": []
    },
    {
     "cell_type": "code",
     "collapsed": false,
     "input": [
      "\n",
      "\n",
      "op = outpatient_payment.ix(index='Hospital_Referral_Region_Description')\n",
      "op\n",
      "\n",
      "#outpatient_payment.loc(index[['Average_Total_Payments']].rank(ascending=True, index='Hospital_Referral_Region_Description')"
     ],
     "language": "python",
     "metadata": {},
     "outputs": []
    },
    {
     "cell_type": "code",
     "collapsed": false,
     "input": [
      "## Changing 'Average Covered Charges', 'Average Total Payments', and 'Average Medicare Payments' into float\n",
      "outpatient_payment[['Average_Covered_Charges','Average_Total_Payments','Average_Medicare_Payments']] = outpatient_payment[['Average_Covered_Charges','Average_Total_Payments','Average_Medicare_Payments']].astype(float) \n",
      "outpatient_payment.describe()\n"
     ],
     "language": "python",
     "metadata": {},
     "outputs": []
    },
    {
     "cell_type": "code",
     "collapsed": false,
     "input": [],
     "language": "python",
     "metadata": {},
     "outputs": []
    },
    {
     "cell_type": "markdown",
     "metadata": {},
     "source": [
      "## What is the meaning of these numbers?\n",
      "\n",
      "* The purpose of data analysis is to bridge the gap between raw data and insight\n",
      "* Hidden inside mean, std, and quartiles is our answer to questions such as \n",
      "* \"How much more different is the average total payments from medicare payments?\"\n",
      "* \"What is the lowest a patient has ever paid when admitted to a hospital?\"\n",
      "* \"Is it *normal* for a medicare patient to pay $8,494 for one visit?\""
     ]
    },
    {
     "cell_type": "markdown",
     "metadata": {},
     "source": [
      "# Histograms\n",
      "\n",
      "Histogram is a representation of frequency distribution in a set of data. Histograms are different from bar graphs because there are no spaces between the bar and histograms only reflect frequency. In many histograms you also set a bin. A bin is simply an interval found within a histogram."
     ]
    },
    {
     "cell_type": "markdown",
     "metadata": {},
     "source": [
      "## Frequency Histogram \n",
      "Average Total Payments for All 50 States"
     ]
    },
    {
     "cell_type": "code",
     "collapsed": false,
     "input": [
      "%pylab inline\n",
      "outpatient_payment['Average_Total_Payments'].hist(bins=80)\n",
      "\n",
      "plt.xlabel(\"Amount Paid Upon Visit\")\n",
      "plt.ylabel(\"Frequency of Payments\")\n",
      "plt.show()"
     ],
     "language": "python",
     "metadata": {},
     "outputs": []
    },
    {
     "cell_type": "markdown",
     "metadata": {},
     "source": [
      "## Frequency Histogram \n",
      "Average Medicare Payments for All 50 States"
     ]
    },
    {
     "cell_type": "code",
     "collapsed": false,
     "input": [
      "%pylab inline\n",
      "outpatient_payment['Average_Medicare_Payments'].hist(bins=80)\n",
      "\n",
      "plt.xlabel(\"Amount Paid Upon Visit\")\n",
      "plt.ylabel(\"Frequency of Payments\")\n",
      "plt.show()"
     ],
     "language": "python",
     "metadata": {},
     "outputs": []
    },
    {
     "cell_type": "markdown",
     "metadata": {},
     "source": [
      "## Finding the Mean vs Median\n",
      "\n",
      "In the next section we are going to use group by function to find the mean. We will go over group by in more detail in the next lesson."
     ]
    },
    {
     "cell_type": "markdown",
     "metadata": {},
     "source": [
      "## Mean\n",
      "In which state does the average person pays the most in medical expenses? In which state does the average person pays the most in medical expenses"
     ]
    },
    {
     "cell_type": "code",
     "collapsed": false,
     "input": [
      "#compare_states_mean = compare_states[['Average_Total_Payments']].mean()\n",
      "compare_states_mean = compare_states.groupby(compare_states.Provider_State).agg({\"Average_Total_Payments\": np.mean})\n",
      "compare_states_mean"
     ],
     "language": "python",
     "metadata": {},
     "outputs": []
    },
    {
     "cell_type": "code",
     "collapsed": false,
     "input": [
      "%pylab inline\n",
      "\n",
      "compare_states_mean.plot(kind='bar')\n",
      "\n",
      "plt.xlabel(\"State\")\n",
      "plt.ylabel(\"Average Total Payments\")\n",
      "plt.show()"
     ],
     "language": "python",
     "metadata": {},
     "outputs": []
    },
    {
     "cell_type": "markdown",
     "metadata": {},
     "source": [
      "## Median\n",
      "50% of the population pay more than and 50% pay less than this amount"
     ]
    },
    {
     "cell_type": "code",
     "collapsed": false,
     "input": [
      "compare_states_mean = compare_states[['Average_Total_Payments']].mean()\n",
      "compare_states_median = compare_states.groupby(compare_states.Provider_State).agg({\"Average_Total_Payments\": np.median})\n",
      "compare_states_median"
     ],
     "language": "python",
     "metadata": {},
     "outputs": []
    },
    {
     "cell_type": "code",
     "collapsed": false,
     "input": [
      "%pylab inline\n",
      "\n",
      "compare_states_median.plot(kind='bar')\n",
      "\n",
      "plt.xlabel(\"State\")\n",
      "plt.ylabel(\"Average Total Payments\")\n",
      "plt.show()"
     ],
     "language": "python",
     "metadata": {},
     "outputs": []
    },
    {
     "cell_type": "markdown",
     "metadata": {},
     "source": [
      "#Maximum\n",
      "What is the most individuals pay for hospital visit?\n"
     ]
    },
    {
     "cell_type": "code",
     "collapsed": false,
     "input": [
      "compare_states_max = compare_states.groupby(compare_states.Provider_State).agg({\"Average_Total_Payments\": np.max})\n",
      "compare_states_max"
     ],
     "language": "python",
     "metadata": {},
     "outputs": []
    },
    {
     "cell_type": "code",
     "collapsed": false,
     "input": [
      "%pylab inline\n",
      "\n",
      "compare_states_max.plot(kind='bar')\n",
      "\n",
      "plt.xlabel(\"State\")\n",
      "plt.ylabel(\"Average Total Payments\")\n",
      "plt.show()"
     ],
     "language": "python",
     "metadata": {},
     "outputs": []
    },
    {
     "cell_type": "markdown",
     "metadata": {},
     "source": [
      "## Linear Regressions and Machine Learning\n",
      "\n",
      "Regressions is a simple modeling technique that is used to find relationships between a predictor variable and a result. Using the statsmodels package we are going to uncover the ordinary least squares. Ordinary least squares is a method for estimating the unknown parameters in a linear model."
     ]
    },
    {
     "cell_type": "code",
     "collapsed": false,
     "input": [],
     "language": "python",
     "metadata": {},
     "outputs": []
    },
    {
     "cell_type": "markdown",
     "metadata": {},
     "source": [
      "## Diabetes dataset from the scikit-learn documentation\n",
      "We will examine the attributes are features that contribute to diabetes"
     ]
    },
    {
     "cell_type": "code",
     "collapsed": false,
     "input": [
      "# In this section we are going to import scikit-learn and numpy\n",
      "from sklearn import datasets, linear_model\n",
      "import numpy as np"
     ],
     "language": "python",
     "metadata": {},
     "outputs": []
    },
    {
     "cell_type": "code",
     "collapsed": false,
     "input": [],
     "language": "python",
     "metadata": {},
     "outputs": []
    },
    {
     "cell_type": "code",
     "collapsed": false,
     "input": [
      "# Load the diabetes dataset\n",
      "diabetes = datasets.load_diabetes()"
     ],
     "language": "python",
     "metadata": {},
     "outputs": []
    },
    {
     "cell_type": "code",
     "collapsed": false,
     "input": [],
     "language": "python",
     "metadata": {},
     "outputs": []
    },
    {
     "cell_type": "code",
     "collapsed": false,
     "input": [
      "# Use only one feature\n",
      "diabetes_X = diabetes.data[:, np.newaxis]\n",
      "diabetes_X_temp = diabetes_X[:, :, 2]"
     ],
     "language": "python",
     "metadata": {},
     "outputs": []
    },
    {
     "cell_type": "code",
     "collapsed": false,
     "input": [],
     "language": "python",
     "metadata": {},
     "outputs": []
    },
    {
     "cell_type": "code",
     "collapsed": false,
     "input": [
      "# Split the data into training/testing sets\n",
      "diabetes_X_train = diabetes_X_temp[:-20]\n",
      "diabetes_X_test = diabetes_X_temp[-20:]"
     ],
     "language": "python",
     "metadata": {},
     "outputs": []
    },
    {
     "cell_type": "code",
     "collapsed": false,
     "input": [],
     "language": "python",
     "metadata": {},
     "outputs": []
    },
    {
     "cell_type": "code",
     "collapsed": false,
     "input": [
      "# Split the targets into training/testing sets\n",
      "diabetes_y_train = diabetes.target[:-20]\n",
      "diabetes_y_test = diabetes.target[-20:]"
     ],
     "language": "python",
     "metadata": {},
     "outputs": []
    },
    {
     "cell_type": "code",
     "collapsed": false,
     "input": [],
     "language": "python",
     "metadata": {},
     "outputs": []
    },
    {
     "cell_type": "code",
     "collapsed": false,
     "input": [
      "# Create linear regression object\n",
      "regr = linear_model.LinearRegression()"
     ],
     "language": "python",
     "metadata": {},
     "outputs": []
    },
    {
     "cell_type": "code",
     "collapsed": false,
     "input": [],
     "language": "python",
     "metadata": {},
     "outputs": []
    },
    {
     "cell_type": "code",
     "collapsed": false,
     "input": [
      "# Train the model using the training sets\n",
      "regr.fit(diabetes_X_train, diabetes_y_train)"
     ],
     "language": "python",
     "metadata": {},
     "outputs": []
    },
    {
     "cell_type": "code",
     "collapsed": false,
     "input": [],
     "language": "python",
     "metadata": {},
     "outputs": []
    },
    {
     "cell_type": "code",
     "collapsed": false,
     "input": [
      "# The coefficients\n",
      "print('Coefficients: \\n', regr.coef_)\n",
      "# The mean square error\n",
      "print(\"Residual sum of squares: %.2f\"\n",
      "      % np.mean((regr.predict(diabetes_X_test) - diabetes_y_test) ** 2))\n",
      "# Explained variance score: 1 is perfect prediction\n",
      "print('Variance score: %.2f' % regr.score(diabetes_X_test, diabetes_y_test))"
     ],
     "language": "python",
     "metadata": {},
     "outputs": []
    },
    {
     "cell_type": "markdown",
     "metadata": {},
     "source": [
      "## Let's plot Our Results"
     ]
    },
    {
     "cell_type": "code",
     "collapsed": false,
     "input": [
      "%pylab inline\n",
      "\n",
      "plt.scatter(diabetes_X_test, diabetes_y_test,  color='black')\n",
      "plt.plot(diabetes_X_test, regr.predict(diabetes_X_test), color='blue',\n",
      "         linewidth=3)\n",
      "\n",
      "plt.xticks(())\n",
      "plt.yticks(())\n",
      "\n",
      "plt.show()\n"
     ],
     "language": "python",
     "metadata": {},
     "outputs": []
    },
    {
     "cell_type": "code",
     "collapsed": false,
     "input": [],
     "language": "python",
     "metadata": {},
     "outputs": []
    },
    {
     "cell_type": "markdown",
     "metadata": {},
     "source": [
      "### Extra Material\n",
      "\n",
      "norm-referenced tests: ranked against other entities (http://www.fairtest.org/norm-referenced-achievement-tests)\n",
      "\n",
      "\n"
     ]
    },
    {
     "cell_type": "code",
     "collapsed": false,
     "input": [
      "Sources:\n",
      "    http://www.stat.cmu.edu/~hseltman/309/Book/chapter4.pdf\n",
      "    http://www.stat.yale.edu/Courses/1997-98/101/catdat.htm\n",
      "    http://scikit-learn.org/stable/auto_examples/linear_model/plot_ols.html#example-linear-model-plot-ols-py"
     ],
     "language": "python",
     "metadata": {},
     "outputs": []
    },
    {
     "cell_type": "code",
     "collapsed": false,
     "input": [
      "TODO:\n",
      "    \n",
      "    Section on percentiles\n",
      "    Change colors on bar charts"
     ],
     "language": "python",
     "metadata": {},
     "outputs": []
    }
   ],
   "metadata": {}
  }
 ]
}