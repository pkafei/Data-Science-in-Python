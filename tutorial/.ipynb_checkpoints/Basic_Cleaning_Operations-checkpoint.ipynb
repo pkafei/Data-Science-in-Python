{
 "metadata": {
  "name": "",
  "signature": "sha256:a0cef9cdcd423b65380f6f76aae5d37b65d0b82ace64e9be9058275b845f992b"
 },
 "nbformat": 3,
 "nbformat_minor": 0,
 "worksheets": [
  {
   "cells": [
    {
     "cell_type": "code",
     "collapsed": false,
     "input": [
      "# Cleaning up Your Data Frame"
     ],
     "language": "python",
     "metadata": {},
     "outputs": []
    },
    {
     "cell_type": "code",
     "collapsed": false,
     "input": [
      "List of cleaning operations\n",
      "\n",
      "* introduction to querying\n",
      "* get rid of NA (The last columns we can do without the NA)\n",
      "* Rename the columns \n",
      "* Add a column\n"
     ],
     "language": "python",
     "metadata": {},
     "outputs": []
    },
    {
     "cell_type": "code",
     "collapsed": false,
     "input": [
      "## Import Pandas and other relevant packages. \n",
      "\n",
      "import pandas as pd # the pandas package\n",
      "import numpy as np"
     ],
     "language": "python",
     "metadata": {},
     "outputs": []
    },
    {
     "cell_type": "code",
     "collapsed": false,
     "input": [
      "# Load the data \n",
      "md_employment = pd.read_csv(\"Employment_Figures.csv\")\n",
      "md_employment.head()\n"
     ],
     "language": "python",
     "metadata": {},
     "outputs": []
    },
    {
     "cell_type": "markdown",
     "metadata": {},
     "source": [
      "## In this lesson we are going to go over some basic data munging. \n",
      "The common adage is that data science is 20% analyzing and visualizing and 80% cleaning. It is not uncommon for data scientist to call themselves data janitors!"
     ]
    },
    {
     "cell_type": "markdown",
     "metadata": {},
     "source": [
      "## Cleaning task 1: Working with \"Missing Data\" \n",
      "For the last three columns the NA doesn't add to our analysis so let's just get rid of them.\n"
     ]
    },
    {
     "cell_type": "code",
     "collapsed": false,
     "input": [
      "md_employment.dropna()\n"
     ],
     "language": "python",
     "metadata": {},
     "outputs": []
    },
    {
     "cell_type": "markdown",
     "metadata": {},
     "source": [
      "### If you want to keep the columns you can replace 'NA' with blank spaces as placeholders. You might add data to these rows later\n",
      "\n"
     ]
    },
    {
     "cell_type": "code",
     "collapsed": false,
     "input": [
      "md_employment.fillna(0, inplace=True)"
     ],
     "language": "python",
     "metadata": {},
     "outputs": []
    },
    {
     "cell_type": "markdown",
     "metadata": {},
     "source": [
      "## We are only interested going to compare Maryland's 2013 Unemployment Rate with the District of Columbia\n"
     ]
    },
    {
     "cell_type": "code",
     "collapsed": false,
     "input": [
      "# First let's take the relevant columns we need"
     ],
     "language": "python",
     "metadata": {},
     "outputs": []
    },
    {
     "cell_type": "code",
     "collapsed": false,
     "input": [
      "year_2013_employment = md_employment[(md_employment.Year == 2013)]\n",
      "MD_2013_employment = year_2013_employment[['Year', 'Month', 'Maryland Unemployment Rate']]\n",
      "\n",
      "MD_2013_employment.head()"
     ],
     "language": "python",
     "metadata": {},
     "outputs": []
    },
    {
     "cell_type": "markdown",
     "metadata": {},
     "source": [
      "## Here is the DC unemployment numbers for 2013. \n",
      "Jan: 8.6, Feb: 8.6, Mar 8.5, Apr 8.5, May 8.5, Jun 8.5, Jul 8.4, Aug 8.3, Sept 8.2, Oct 8.0, Nov 7.8, Dec 7.6"
     ]
    },
    {
     "cell_type": "markdown",
     "metadata": {},
     "source": [
      "## Ok Let's put these numbers in a Data Frame"
     ]
    },
    {
     "cell_type": "code",
     "collapsed": false,
     "input": [
      "# Building a dataframe\n",
      "DC_unemployment = pd.DataFrame({'Month': ['Jan', 'Feb', 'Mar', 'Apr', 'May', 'Jun', 'Jul', 'Aug', \n",
      "                                             'Sept', 'Oct', 'Nov', 'Dec'], 'DC Unemployment Rate': [8.6, 8.6,\n",
      "                                            8.5, 8.5, 8.5, 8.5, 8.4, 8.3, 8.2, 8.0, 7.8, 7.6]})\n",
      "DC_2013_employment"
     ],
     "language": "python",
     "metadata": {},
     "outputs": []
    },
    {
     "cell_type": "markdown",
     "metadata": {},
     "source": [
      "## Rearrange the columns"
     ]
    },
    {
     "cell_type": "code",
     "collapsed": false,
     "input": [
      "DC_2013_employment = DC_unemployment[['Month', 'DC Unemployment Rate']]\n",
      "DC_2013_employment"
     ],
     "language": "python",
     "metadata": {},
     "outputs": []
    },
    {
     "cell_type": "markdown",
     "metadata": {},
     "source": [
      "## Let's add Maryland's unemployment rate to our DC unemployment figure table"
     ]
    },
    {
     "cell_type": "code",
     "collapsed": false,
     "input": [],
     "language": "python",
     "metadata": {},
     "outputs": []
    },
    {
     "cell_type": "code",
     "collapsed": false,
     "input": [],
     "language": "python",
     "metadata": {},
     "outputs": []
    }
   ],
   "metadata": {}
  }
 ]
}