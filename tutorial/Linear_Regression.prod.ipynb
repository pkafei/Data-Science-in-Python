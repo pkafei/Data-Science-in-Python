{
 "metadata": {
  "signature": "sha256:12160f7e75439a31c5239a68809ead6c396d44883c9ea8c8d8672b47a6cb5bb3"
 },
 "nbformat": 3,
 "nbformat_minor": 0,
 "worksheets": [
  {
   "cells": [
    {
     "cell_type": "markdown",
     "metadata": {},
     "source": [
      "<table>\n",
      "<tr>\n",
      "<td width = \"150px\"><img src=\"files/SnakeyTitle.png\"/></td>\n",
      "<td width=\"500px\"><center>\n",
      "<h1>Linear Regression</h1>\n",
      "</center></td>\n",
      "<td width='150px'><img src=\"files/AuthorCredit.png\"/></td>\n",
      "</tr>\n",
      "</table>"
     ]
    },
    {
     "cell_type": "code",
     "collapsed": false,
     "input": [
      "# In this section we are going to import scikit-learn and numpy\n",
      "from sklearn import datasets, linear_model\n",
      "import numpy as np"
     ],
     "language": "python",
     "metadata": {},
     "outputs": [],
     "prompt_number": 1
    },
    {
     "cell_type": "code",
     "collapsed": false,
     "input": [
      "# Load the diabetes dataset\n",
      "diabetes = datasets.load_diabetes()"
     ],
     "language": "python",
     "metadata": {},
     "outputs": [],
     "prompt_number": 2
    },
    {
     "cell_type": "code",
     "collapsed": false,
     "input": [
      "# Use only one feature\n",
      "diabetes_X = diabetes.data[:, np.newaxis]\n",
      "diabetes_X_temp = diabetes_X[:, :, 2]"
     ],
     "language": "python",
     "metadata": {},
     "outputs": [],
     "prompt_number": 3
    },
    {
     "cell_type": "code",
     "collapsed": false,
     "input": [
      "# Split the data into training/testing sets\n",
      "diabetes_X_train = diabetes_X_temp[:-20]\n",
      "diabetes_X_test = diabetes_X_temp[-20:]"
     ],
     "language": "python",
     "metadata": {},
     "outputs": [],
     "prompt_number": 4
    },
    {
     "cell_type": "code",
     "collapsed": false,
     "input": [
      "# Split the data into training/testing sets\n",
      "diabetes_y_train = diabetes.target[:-20]\n",
      "diabetes_y_test = diabetes.target[-20:]"
     ],
     "language": "python",
     "metadata": {},
     "outputs": [],
     "prompt_number": 5
    },
    {
     "cell_type": "code",
     "collapsed": false,
     "input": [
      "# Create linear regression object\n",
      "regr = linear_model.LinearRegression()"
     ],
     "language": "python",
     "metadata": {},
     "outputs": [],
     "prompt_number": 6
    },
    {
     "cell_type": "code",
     "collapsed": false,
     "input": [
      "# Train the model using the training sets\n",
      "regr.fit(diabetes_X_train, diabetes_y_train)"
     ],
     "language": "python",
     "metadata": {},
     "outputs": [],
     "prompt_number": 7
    },
    {
     "cell_type": "code",
     "collapsed": false,
     "input": [
      "%pylab inline\n",
      "\n",
      "plt.scatter(diabetes_X_test, diabetes_y_test,  color='black')\n",
      "plt.plot(diabetes_X_test, regr.predict(diabetes_X_test), color='blue',\n",
      "         linewidth=3)\n",
      "\n",
      "plt.xticks(())\n",
      "plt.yticks(())\n",
      "\n",
      "plt.show()\n"
     ],
     "language": "python",
     "metadata": {},
     "outputs": [],
     "prompt_number": 9
    }
   ],
   "metadata": {}
  }
 ]
}