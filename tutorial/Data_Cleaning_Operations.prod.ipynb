{
 "metadata": {
  "signature": "sha256:df0662e86753c89b4ef9f22e0488d93f8ccc713f89b4c369cfec5dba374247d4"
 },
 "nbformat": 3,
 "nbformat_minor": 0,
 "worksheets": [
  {
   "cells": [
    {
     "cell_type": "markdown",
     "metadata": {},
     "source": [
      "<table>\n",
      "<tr>\n",
      "<td width = \"150px\"><img src=\"files/SnakeyTitle.png\"/></td>\n",
      "<td width=\"500px\"><center>\n",
      "<h1>Data Cleaning Operations</h1>\n",
      "</center></td>\n",
      "<td width='150px'><img src=\"files/AuthorCredit.png\"/></td>\n",
      "</tr>\n",
      "</table>"
     ]
    },
    {
     "cell_type": "code",
     "collapsed": false,
     "input": [
      "import pandas as pd \n",
      "import numpy as np\n",
      "import matplotlib.pyplot as plt "
     ],
     "language": "python",
     "metadata": {},
     "outputs": []
    },
    {
     "cell_type": "code",
     "collapsed": false,
     "input": [
      "outpatient_payment = pd.read_csv('../data/IPPS.csv')"
     ],
     "language": "python",
     "metadata": {},
     "outputs": []
    },
    {
     "cell_type": "code",
     "collapsed": false,
     "input": [
      "outpatient_payment.dtypes"
     ],
     "language": "python",
     "metadata": {},
     "outputs": []
    },
    {
     "cell_type": "code",
     "collapsed": false,
     "input": [
      "outpatient_payment = outpatient_payment.rename(columns=str.strip)\n",
      "outpatient_payment.dtypes"
     ],
     "language": "python",
     "metadata": {},
     "outputs": []
    },
    {
     "cell_type": "code",
     "collapsed": false,
     "input": [
      "columns = {cn: cn.replace(\" \", \"_\") \n",
      "           for cn in outpatient_payment.columns.values}\n",
      "outpatient_payment = outpatient_payment.rename(columns=columns)\n",
      "outpatient_payment.dtypes"
     ],
     "language": "python",
     "metadata": {},
     "outputs": []
    },
    {
     "cell_type": "code",
     "collapsed": false,
     "input": [
      "# Show mapping to rename columns\n",
      "columns"
     ],
     "language": "python",
     "metadata": {},
     "outputs": []
    },
    {
     "cell_type": "code",
     "collapsed": false,
     "input": [
      "outpatient_payment.describe()"
     ],
     "language": "python",
     "metadata": {},
     "outputs": [
      {
       "html": [
        "<div style=\"max-height:1000px;max-width:1500px;overflow:auto;\">\n",
        "<table border=\"1\" class=\"dataframe\">\n",
        "  <thead>\n",
        "    <tr style=\"text-align: right;\">\n",
        "      <th></th>\n",
        "      <th>Provider_Id</th>\n",
        "      <th>Provider_Zip_Code</th>\n",
        "      <th>Total_Discharges</th>\n",
        "    </tr>\n",
        "  </thead>\n",
        "  <tbody>\n",
        "    <tr>\n",
        "      <th>count</th>\n",
        "      <td> 163065.000000</td>\n",
        "      <td> 163065.000000</td>\n",
        "      <td> 163065.000000</td>\n",
        "    </tr>\n",
        "    <tr>\n",
        "      <th>mean</th>\n",
        "      <td> 255569.865428</td>\n",
        "      <td>  47938.121908</td>\n",
        "      <td>     42.776304</td>\n",
        "    </tr>\n",
        "    <tr>\n",
        "      <th>std</th>\n",
        "      <td> 151563.671766</td>\n",
        "      <td>  27854.323080</td>\n",
        "      <td>     51.104042</td>\n",
        "    </tr>\n",
        "    <tr>\n",
        "      <th>min</th>\n",
        "      <td>  10001.000000</td>\n",
        "      <td>   1040.000000</td>\n",
        "      <td>     11.000000</td>\n",
        "    </tr>\n",
        "    <tr>\n",
        "      <th>25%</th>\n",
        "      <td> 110092.000000</td>\n",
        "      <td>  27261.000000</td>\n",
        "      <td>     17.000000</td>\n",
        "    </tr>\n",
        "    <tr>\n",
        "      <th>50%</th>\n",
        "      <td> 250007.000000</td>\n",
        "      <td>  44309.000000</td>\n",
        "      <td>     27.000000</td>\n",
        "    </tr>\n",
        "    <tr>\n",
        "      <th>75%</th>\n",
        "      <td> 380075.000000</td>\n",
        "      <td>  72901.000000</td>\n",
        "      <td>     49.000000</td>\n",
        "    </tr>\n",
        "    <tr>\n",
        "      <th>max</th>\n",
        "      <td> 670077.000000</td>\n",
        "      <td>  99835.000000</td>\n",
        "      <td>   3383.000000</td>\n",
        "    </tr>\n",
        "  </tbody>\n",
        "</table>\n",
        "</div>"
       ],
       "metadata": {},
       "output_type": "pyout",
       "prompt_number": 10,
       "text": [
        "         Provider_Id  Provider_Zip_Code  Total_Discharges\n",
        "count  163065.000000      163065.000000     163065.000000\n",
        "mean   255569.865428       47938.121908         42.776304\n",
        "std    151563.671766       27854.323080         51.104042\n",
        "min     10001.000000        1040.000000         11.000000\n",
        "25%    110092.000000       27261.000000         17.000000\n",
        "50%    250007.000000       44309.000000         27.000000\n",
        "75%    380075.000000       72901.000000         49.000000\n",
        "max    670077.000000       99835.000000       3383.000000"
       ]
      }
     ],
     "prompt_number": 10
    },
    {
     "cell_type": "code",
     "collapsed": false,
     "input": [
      "outpatient_payment[['Provider_Id', 'Provider_Zip_Code']] = \\\n",
      "        outpatient_payment[['Provider_Id', 'Provider_Zip_Code']].astype(object)    "
     ],
     "language": "python",
     "metadata": {},
     "outputs": [],
     "prompt_number": 13
    },
    {
     "cell_type": "code",
     "collapsed": false,
     "input": [
      "outpatient_payment.dtypes"
     ],
     "language": "python",
     "metadata": {},
     "outputs": [
      {
       "metadata": {},
       "output_type": "pyout",
       "prompt_number": 14,
       "text": [
        "DRG_Definition                          object\n",
        "Provider_Id                             object\n",
        "Provider_Name                           object\n",
        "Provider_Street_Address                 object\n",
        "Provider_City                           object\n",
        "Provider_State                          object\n",
        "Provider_Zip_Code                       object\n",
        "Hospital_Referral_Region_Description    object\n",
        "Total_Discharges                         int64\n",
        "Average_Covered_Charges                 object\n",
        "Average_Total_Payments                  object\n",
        "Average_Medicare_Payments               object\n",
        "dtype: object"
       ]
      }
     ],
     "prompt_number": 14
    },
    {
     "cell_type": "code",
     "collapsed": false,
     "input": [
      "## Stripping the dollar sign in the the beginning of 'Average Medicare Payments'\n",
      "#Would like to find a way for this to work in one class\n",
      "for column in ['Average_Covered_Charges',\n",
      "               'Average_Total_Payments',\n",
      "               'Average_Medicare_Payments']:\n",
      "    outpatient_payment[column] = outpatient_payment[column].str.strip(\"$\")"
     ],
     "language": "python",
     "metadata": {},
     "outputs": [],
     "prompt_number": 15
    },
    {
     "cell_type": "code",
     "collapsed": false,
     "input": [
      "outpatient_payment[['Average_Covered_Charges']].head(2)"
     ],
     "language": "python",
     "metadata": {},
     "outputs": [
      {
       "html": [
        "<div style=\"max-height:1000px;max-width:1500px;overflow:auto;\">\n",
        "<table border=\"1\" class=\"dataframe\">\n",
        "  <thead>\n",
        "    <tr style=\"text-align: right;\">\n",
        "      <th></th>\n",
        "      <th>Average_Covered_Charges</th>\n",
        "    </tr>\n",
        "  </thead>\n",
        "  <tbody>\n",
        "    <tr>\n",
        "      <th>0</th>\n",
        "      <td> 32963.07</td>\n",
        "    </tr>\n",
        "    <tr>\n",
        "      <th>1</th>\n",
        "      <td> 15131.85</td>\n",
        "    </tr>\n",
        "  </tbody>\n",
        "</table>\n",
        "</div>"
       ],
       "metadata": {},
       "output_type": "pyout",
       "prompt_number": 16,
       "text": [
        "  Average_Covered_Charges\n",
        "0                32963.07\n",
        "1                15131.85"
       ]
      }
     ],
     "prompt_number": 16
    },
    {
     "cell_type": "code",
     "collapsed": false,
     "input": [
      "outpatient_payment[['Average_Covered_Charges',\n",
      "                    'Average_Total_Payments',\n",
      "                    'Average_Medicare_Payments']] \\\n",
      "        =outpatient_payment[['Average_Covered_Charges', \n",
      "                             'Average_Total_Payments',\n",
      "                             'Average_Medicare_Payments']].astype(float)    "
     ],
     "language": "python",
     "metadata": {},
     "outputs": [],
     "prompt_number": 17
    },
    {
     "cell_type": "code",
     "collapsed": false,
     "input": [
      "#Let's check if we we correctly casted our column types from objects to floats\n",
      "outpatient_payment.dtypes"
     ],
     "language": "python",
     "metadata": {},
     "outputs": [
      {
       "metadata": {},
       "output_type": "pyout",
       "prompt_number": 18,
       "text": [
        "DRG_Definition                           object\n",
        "Provider_Id                              object\n",
        "Provider_Name                            object\n",
        "Provider_Street_Address                  object\n",
        "Provider_City                            object\n",
        "Provider_State                           object\n",
        "Provider_Zip_Code                        object\n",
        "Hospital_Referral_Region_Description     object\n",
        "Total_Discharges                          int64\n",
        "Average_Covered_Charges                 float64\n",
        "Average_Total_Payments                  float64\n",
        "Average_Medicare_Payments               float64\n",
        "dtype: object"
       ]
      }
     ],
     "prompt_number": 18
    },
    {
     "cell_type": "code",
     "collapsed": false,
     "input": [
      "outpatient_payment.to_csv('../data/cleaned_outpatient_payment.csv')"
     ],
     "language": "python",
     "metadata": {},
     "outputs": [],
     "prompt_number": 19
    },
    {
     "cell_type": "code",
     "collapsed": false,
     "input": [],
     "language": "python",
     "metadata": {},
     "outputs": []
    }
   ],
   "metadata": {}
  }
 ]
}