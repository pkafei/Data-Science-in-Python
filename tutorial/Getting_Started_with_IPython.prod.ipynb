{
 "metadata": {
  "signature": "sha256:98de6d901acc8bf30bb2eb168b2275ca907c0ea8f5e8539de7ca86b8d5622d8c"
 },
 "nbformat": 3,
 "nbformat_minor": 0,
 "worksheets": [
  {
   "cells": [
    {
     "cell_type": "markdown",
     "metadata": {},
     "source": [
      "<table>\n",
      "<tr>\n",
      "<td width = \"150px\"><img src=\"files/SnakeyTitle.png\"/></td>\n",
      "<td width=\"500px\"><center>\n",
      "<h1>Getting Started with IPython</h1>\n",
      "</center></td>\n",
      "<td width='150px'><img src=\"files/AuthorCredit.png\"/></td>\n",
      "</tr>\n",
      "</table>"
     ]
    },
    {
     "cell_type": "code",
     "collapsed": false,
     "input": [
      "print(\"Hello World of Data\")"
     ],
     "language": "python",
     "metadata": {},
     "outputs": [
      {
       "output_type": "stream",
       "stream": "stdout",
       "text": [
        "Hello World of Data\n"
       ]
      }
     ],
     "prompt_number": 1
    },
    {
     "cell_type": "code",
     "collapsed": false,
     "input": [
      "5 * 29"
     ],
     "language": "python",
     "metadata": {},
     "outputs": [
      {
       "metadata": {},
       "output_type": "pyout",
       "prompt_number": 2,
       "text": [
        "145"
       ]
      }
     ],
     "prompt_number": 2
    },
    {
     "cell_type": "code",
     "collapsed": true,
     "input": [
      "def greetings():\n",
      "    print(\"Greetings Guido\") \n",
      "\n",
      "greetings()"
     ],
     "language": "python",
     "metadata": {},
     "outputs": [
      {
       "output_type": "stream",
       "stream": "stdout",
       "text": [
        "Greetings Guido\n"
       ]
      }
     ],
     "prompt_number": 3
    },
    {
     "cell_type": "code",
     "collapsed": false,
     "input": [
      "# Turning Python Debugging On or Off\n",
      "\n",
      "%pdb"
     ],
     "language": "python",
     "metadata": {},
     "outputs": [
      {
       "output_type": "stream",
       "stream": "stdout",
       "text": [
        "Automatic pdb calling has been turned ON\n"
       ]
      }
     ],
     "prompt_number": 4
    },
    {
     "cell_type": "code",
     "collapsed": false,
     "input": [
      "# Reference of Magic commands\n",
      "\n",
      "%quickref"
     ],
     "language": "python",
     "metadata": {},
     "outputs": [],
     "prompt_number": 5
    },
    {
     "cell_type": "code",
     "collapsed": false,
     "input": [
      "!ping -c 5 www.theopenbastion.com"
     ],
     "language": "python",
     "metadata": {},
     "outputs": [
      {
       "output_type": "stream",
       "stream": "stdout",
       "text": [
        "PING theopenbastion.com (108.59.9.144): 56 data bytes\r\n"
       ]
      },
      {
       "output_type": "stream",
       "stream": "stdout",
       "text": [
        "64 bytes from 108.59.9.144: icmp_seq=0 ttl=56 time=78.579 ms\r\n"
       ]
      },
      {
       "output_type": "stream",
       "stream": "stdout",
       "text": [
        "64 bytes from 108.59.9.144: icmp_seq=1 ttl=56 time=119.892 ms\r\n"
       ]
      },
      {
       "output_type": "stream",
       "stream": "stdout",
       "text": [
        "64 bytes from 108.59.9.144: icmp_seq=2 ttl=56 time=163.450 ms\r\n"
       ]
      },
      {
       "output_type": "stream",
       "stream": "stdout",
       "text": [
        "64 bytes from 108.59.9.144: icmp_seq=3 ttl=56 time=102.500 ms\r\n"
       ]
      },
      {
       "output_type": "stream",
       "stream": "stdout",
       "text": [
        "64 bytes from 108.59.9.144: icmp_seq=4 ttl=56 time=145.277 ms\r\n",
        "\r\n",
        "--- theopenbastion.com ping statistics ---\r\n",
        "5 packets transmitted, 5 packets received, 0.0% packet loss\r\n",
        "round-trip min/avg/max/stddev = 78.579/121.940/163.450/30.100 ms\r\n"
       ]
      }
     ],
     "prompt_number": 6
    },
    {
     "cell_type": "code",
     "collapsed": false,
     "input": [
      "%%bash\n",
      "head -n 5 ../data/civil_worker_salaries.csv"
     ],
     "language": "python",
     "metadata": {},
     "outputs": [
      {
       "output_type": "stream",
       "stream": "stdout",
       "text": [
        ",Position_Title,Department,Employee_Annual_Salary\n",
        "0,WATER RATE TAKER,WATER MGMNT,87228.0\n",
        "1,POLICE OFFICER,POLICE,75372.0\n",
        "2,POLICE OFFICER,POLICE,75372.0\n",
        "3,CHIEF CONTRACT EXPEDITER,GENERAL SERVICES,80916.0\n"
       ]
      }
     ],
     "prompt_number": 7
    },
    {
     "cell_type": "code",
     "collapsed": false,
     "input": [
      "%%bash\n",
      "wc -l ../data/civil_worker_salaries.csv"
     ],
     "language": "python",
     "metadata": {},
     "outputs": [
      {
       "output_type": "stream",
       "stream": "stdout",
       "text": [
        "   32161 ../data/civil_worker_salaries.csv\n"
       ]
      }
     ],
     "prompt_number": 8
    },
    {
     "cell_type": "code",
     "collapsed": false,
     "input": [
      "%%bash\n",
      "grep -i -r \"\\FOSTER\\b\" ../data/civil_worker_salaries.csv | head -n 5"
     ],
     "language": "python",
     "metadata": {},
     "outputs": [
      {
       "output_type": "stream",
       "stream": "stdout",
       "text": [
        "../data/civil_worker_salaries.csv:10,FOSTER GRANDPARENT,FAMILY & SUPPORT,2756.0\n",
        "../data/civil_worker_salaries.csv:385,FOSTER GRANDPARENT,FAMILY & SUPPORT,2756.0\n",
        "../data/civil_worker_salaries.csv:748,FOSTER GRANDPARENT,FAMILY & SUPPORT,2756.0\n",
        "../data/civil_worker_salaries.csv:1088,FOSTER GRANDPARENT,FAMILY & SUPPORT,2756.0\n",
        "../data/civil_worker_salaries.csv:1757,FOSTER GRANDPARENT,FAMILY & SUPPORT,2756.0\n"
       ]
      }
     ],
     "prompt_number": 10
    },
    {
     "cell_type": "code",
     "collapsed": false,
     "input": [],
     "language": "python",
     "metadata": {},
     "outputs": []
    }
   ],
   "metadata": {}
  }
 ]
}